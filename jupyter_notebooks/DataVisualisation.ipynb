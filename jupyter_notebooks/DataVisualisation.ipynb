{
  "cells": [
    {
      "cell_type": "markdown",
      "metadata": {
        "id": "0aStgWSO0E0E"
      },
      "source": [
        "# Data Visualisation"
      ]
    },
    {
      "cell_type": "markdown",
      "metadata": {
        "id": "1eLEkw5O0ECa"
      },
      "source": [
        "## Objectives\n",
        "\n",
        "* Perform conventional data analysis on lemon dataset, returning visual plots \n",
        "* Identify visual markers that indicate a poor quality lemon\n",
        "\n",
        "## Inputs\n",
        "\n",
        "* Lemon quality dataset, split into train, validation, and test sets\n",
        "\n",
        "## Outputs\n",
        "\n",
        "* Visual plots for average images for both labels\n",
        "* Plots of image variability for both labels\n",
        "* Representing difference between average label data\n",
        "* Image montage\n",
        "\n"
      ]
    },
    {
      "cell_type": "markdown",
      "metadata": {
        "id": "9uWZXH9LwoQg"
      },
      "source": [
        "---"
      ]
    },
    {
      "cell_type": "markdown",
      "metadata": {},
      "source": [
        "# Import libraries"
      ]
    },
    {
      "cell_type": "code",
      "execution_count": 1,
      "metadata": {},
      "outputs": [],
      "source": [
        "import os\n",
        "import pandas as pd\n",
        "import numpy as np\n",
        "import matplotlib.pyplot as plt\n",
        "import seaborn as sns\n",
        "import joblib\n",
        "import tensorflow as tf\n",
        "sns.set_style(\"white\")\n",
        "from matplotlib.image import imread"
      ]
    },
    {
      "cell_type": "markdown",
      "metadata": {
        "id": "cqP-UeN-z3i2"
      },
      "source": [
        "# Change working directory"
      ]
    },
    {
      "cell_type": "markdown",
      "metadata": {},
      "source": [
        "Access current directory with os.getcwd()"
      ]
    },
    {
      "cell_type": "code",
      "execution_count": 3,
      "metadata": {
        "id": "wZfF_j-Bz3i4",
        "outputId": "66943449-1436-4c3d-85c7-b85f9f78349b"
      },
      "outputs": [
        {
          "data": {
            "text/plain": [
              "'/workspace/lemon-qualitycontrol/jupyter_notebooks'"
            ]
          },
          "execution_count": 3,
          "metadata": {},
          "output_type": "execute_result"
        }
      ],
      "source": [
        "current_dir = os.getcwd()\n",
        "current_dir"
      ]
    },
    {
      "cell_type": "markdown",
      "metadata": {
        "id": "9MWW8E7lz3i7"
      },
      "source": [
        "\n",
        "* os.path.dirname() gets the parent directory\n",
        "* os.chdir() defines the new current directory"
      ]
    },
    {
      "cell_type": "code",
      "execution_count": 4,
      "metadata": {
        "id": "TwHsQRWjz3i9",
        "outputId": "86849db3-cd2f-4cc5-ebb8-2d0caafa1a2c"
      },
      "outputs": [
        {
          "name": "stdout",
          "output_type": "stream",
          "text": [
            "You set a new current directory\n"
          ]
        }
      ],
      "source": [
        "os.chdir(os.path.dirname(current_dir))\n",
        "print(\"You set a new current directory\")"
      ]
    },
    {
      "cell_type": "markdown",
      "metadata": {
        "id": "M_xPk_Ijz3i-"
      },
      "source": [
        "Confirm the new current directory"
      ]
    },
    {
      "cell_type": "code",
      "execution_count": 5,
      "metadata": {
        "id": "vz3S-_kjz3jA",
        "outputId": "00b79ae4-75d0-4a96-d193-ac9ef9847ea2"
      },
      "outputs": [
        {
          "data": {
            "text/plain": [
              "'/workspace/lemon-qualitycontrol'"
            ]
          },
          "execution_count": 5,
          "metadata": {},
          "output_type": "execute_result"
        }
      ],
      "source": [
        "current_dir = os.getcwd()\n",
        "current_dir"
      ]
    },
    {
      "cell_type": "markdown",
      "metadata": {
        "id": "-mavJ8DibrcQ"
      },
      "source": [
        "Set input directories\n"
      ]
    },
    {
      "cell_type": "code",
      "execution_count": 6,
      "metadata": {},
      "outputs": [],
      "source": [
        "my_data_dir = 'inputs/lemon-quality-dataset/lemon_dataset'\n",
        "train_path = my_data_dir + '/train'\n",
        "val_path = my_data_dir + '/validation'\n",
        "test_path = my_data_dir + '/test'"
      ]
    },
    {
      "cell_type": "markdown",
      "metadata": {},
      "source": [
        "Set output directory"
      ]
    },
    {
      "cell_type": "code",
      "execution_count": null,
      "metadata": {},
      "outputs": [],
      "source": [
        "version = 'v3'\n",
        "file_path = f'outputs/{version}'\n",
        "\n",
        "if 'outputs' in os.listdir(current_dir) and version in os.listdir(current_dir + '/outputs'):\n",
        "  print('Old version is already available, create a new version by changing version variable.')\n",
        "  pass\n",
        "else:\n",
        "  os.makedirs(name=file_path)"
      ]
    },
    {
      "cell_type": "markdown",
      "metadata": {},
      "source": [
        "Set label names"
      ]
    },
    {
      "cell_type": "code",
      "execution_count": null,
      "metadata": {},
      "outputs": [],
      "source": [
        "labels = os.listdir(train_path)\n",
        "print(f'Labels for the images are {labels}')"
      ]
    },
    {
      "cell_type": "markdown",
      "metadata": {
        "id": "ZY3l0-AxO93d"
      },
      "source": [
        "---"
      ]
    },
    {
      "cell_type": "markdown",
      "metadata": {
        "id": "uFQo3ycuO-v6"
      },
      "source": [
        "# Data Visualisation of Image Data"
      ]
    },
    {
      "cell_type": "markdown",
      "metadata": {},
      "source": [
        "Check image sizes"
      ]
    },
    {
      "cell_type": "code",
      "execution_count": null,
      "metadata": {},
      "outputs": [],
      "source": [
        "dim1, dim2 = [], []\n",
        "for label in labels:\n",
        "  for image_filename in os.listdir(train_path + '/'+ label):\n",
        "    img = imread(train_path + '/' + label + '/'+ image_filename)\n",
        "    d1, d2, colors = img.shape\n",
        "    dim1.append(d1) # image height\n",
        "    dim2.append(d2) # image width\n",
        "\n",
        "sns.set_style(\"whitegrid\")\n",
        "fig, axes = plt.subplots()\n",
        "sns.scatterplot(x=dim2, y=dim1, alpha=0.2)\n",
        "axes.set_xlabel(\"Width (pixels)\")\n",
        "axes.set_ylabel(\"Height (pixels)\")\n",
        "dim1_mean = int(np.array(dim1).mean().round())\n",
        "dim2_mean = int(np.array(dim2).mean().round())\n",
        "axes.axvline(x=dim1_mean,color='r', linestyle='--')\n",
        "axes.axhline(y=dim2_mean,color='r', linestyle='--')\n",
        "plt.show()\n",
        "print(f\"Width average: {dim2_mean} \\nHeight average: {dim1_mean}\")"
      ]
    },
    {
      "cell_type": "markdown",
      "metadata": {},
      "source": [
        "Reduce image dimensions to (100, 100) to improve speed of model training"
      ]
    },
    {
      "cell_type": "code",
      "execution_count": 2,
      "metadata": {},
      "outputs": [
        {
          "data": {
            "text/plain": [
              "(100, 100, 3)"
            ]
          },
          "execution_count": 2,
          "metadata": {},
          "output_type": "execute_result"
        }
      ],
      "source": [
        "image_shape = (100, 100, 3) \n",
        "image_shape"
      ]
    },
    {
      "cell_type": "markdown",
      "metadata": {},
      "source": [
        "Save image shape embeddings"
      ]
    },
    {
      "cell_type": "code",
      "execution_count": null,
      "metadata": {},
      "outputs": [],
      "source": [
        "joblib.dump(value=image_shape ,\n",
        "            filename=f\"{file_path}/image_shape.pkl\")"
      ]
    },
    {
      "cell_type": "markdown",
      "metadata": {},
      "source": [
        "Load Sobel filtered images in tensor array"
      ]
    },
    {
      "cell_type": "code",
      "execution_count": 76,
      "metadata": {},
      "outputs": [],
      "source": [
        "from tensorflow.keras.preprocessing import image\n",
        "\n",
        "def load_image_as_array(my_data_dir, new_size: tuple, n_images_per_label: int):\n",
        "  \n",
        "  X, y = np.array([], dtype='int'), np.array([], dtype='object')\n",
        "  labels = os.listdir(my_data_dir)\n",
        "\n",
        "  for label in labels:\n",
        "    counter = 0\n",
        "    for image_filename in os.listdir(my_data_dir + '/' + label):\n",
        "      # n_images_per_label: we set a limit, since it may take too much time\n",
        "      if counter < n_images_per_label:\n",
        "        \n",
        "        img = image.load_img(my_data_dir + '/' + label + '/' + image_filename, target_size=new_size)\n",
        "        if image.img_to_array(img).max() > 1: \n",
        "          img_resized = image.img_to_array(img) / 255\n",
        "        else: \n",
        "          img_resized = image.img_to_array(img)\n",
        "        \n",
        "        X = np.append(X, img_resized).reshape(-1, new_size[0], new_size[1], img_resized.shape[2])\n",
        "        y = np.append(y, label)\n",
        "        counter += 1\n",
        "        \n",
        "  print(type(X))      \n",
        "  return X, y #return type\n",
        "  "
      ]
    },
    {
      "cell_type": "markdown",
      "metadata": {},
      "source": [
        "Load images as array"
      ]
    },
    {
      "cell_type": "code",
      "execution_count": 77,
      "metadata": {},
      "outputs": [
        {
          "name": "stdout",
          "output_type": "stream",
          "text": [
            "<class 'numpy.ndarray'>\n",
            "(60, 100, 100, 3) (60,)\n"
          ]
        }
      ],
      "source": [
        "X, y = load_image_as_array(my_data_dir=train_path,\n",
        "                           new_size=image_shape,\n",
        "                          n_images_per_label = 30)\n",
        "print(X.shape, y.shape)"
      ]
    },
    {
      "cell_type": "markdown",
      "metadata": {},
      "source": []
    },
    {
      "cell_type": "markdown",
      "metadata": {},
      "source": [
        "---"
      ]
    },
    {
      "cell_type": "markdown",
      "metadata": {},
      "source": [
        "## Plot and save mean and variability of images"
      ]
    },
    {
      "cell_type": "code",
      "execution_count": null,
      "metadata": {},
      "outputs": [],
      "source": [
        "from skimage import filters\n",
        "def plot_mean_variability_per_labels(X, y, figsize: tuple, save_image: bool):\n",
        "\n",
        "  for label_to_display in np.unique(y): #y values created as labels from last function\n",
        "    sns.set_style(\"white\")\n",
        "\n",
        "    y = y.reshape(-1,1,1)\n",
        "    boolean_mask = np.any(y==label_to_display,axis=1).reshape(-1)\n",
        "    arr = X[boolean_mask]\n",
        "\n",
        "    avg_img = np.mean(arr, axis = 0)\n",
        "    std_img = np.std(arr, axis = 0)\n",
        "    avg_img_dominant = filters.sobel(avg_img)\n",
        "    std_img_dominant = filters.sobel(std_img)\n",
        "    print(f\"==== Label {label_to_display} ====\")\n",
        "    print(f\"Image Shape: {avg_img.shape}\")\n",
        "    fig, axes = plt.subplots(nrows=2, ncols=2, figsize=figsize)\n",
        "    axes[0,0].set_title(f\"Average Image for label {label_to_display}\")\n",
        "    axes[0,0].imshow(avg_img, cmap='gray')\n",
        "    axes[1,0].set_title(f\"Variability image for label {label_to_display}\")\n",
        "    axes[1,0].imshow(std_img, cmap='gray')\n",
        "    axes[0,1].set_title(f\"Dominant features in average image for label {label_to_display}\")\n",
        "    axes[0,1].imshow(avg_img_dominant, cmap='gray')\n",
        "    axes[1,1].set_title(f\"Dominant features in image variability for label {label_to_display}\")\n",
        "    axes[1,1].imshow(std_img_dominant, cmap='gray')\n",
        "\n",
        "    if save_image:\n",
        "      plt.savefig(f\"{file_path}/avg_var_{label_to_display}.png\", bbox_inches='tight', dpi=150)\n",
        "    else:\n",
        "      plt.tight_layout()\n",
        "      plt.show()\n",
        "      print(\"\\n\")"
      ]
    },
    {
      "cell_type": "code",
      "execution_count": null,
      "metadata": {},
      "outputs": [],
      "source": [
        "plot_mean_variability_per_labels(X=X, y=y, figsize=(12,5),save_image=True)"
      ]
    },
    {
      "cell_type": "markdown",
      "metadata": {},
      "source": [
        "## Assess difference between average images of good and bad quality lemons"
      ]
    },
    {
      "cell_type": "code",
      "execution_count": null,
      "metadata": {},
      "outputs": [],
      "source": [
        "def subset_image_label(X,y,label_to_display): \n",
        "  y = y.reshape(-1,1,1)\n",
        "  boolean_mask = np.any(y==label_to_display,axis=1).reshape(-1)\n",
        "  df = X[boolean_mask]\n",
        "  return df\n",
        "\n",
        "\n",
        "def diff_bet_avg_image_labels_data_as_array(X, y, label_1, label_2, figsize=(20,5), save_image=False):\n",
        "  sns.set_style(\"white\")\n",
        "\n",
        "  if (label_1 not in np.unique(y)) or (label_2 not in np.unique(y)):\n",
        "    print(f\"Either label {label} or label {label_2}, are not in {np.unique(y)} \")\n",
        "    return\n",
        "\n",
        "  # calculate mean from label1\n",
        "  images_label = subset_image_label(X, y, label_1)\n",
        "  label1_avg = np.mean(images_label, axis = 0)\n",
        "\n",
        "  # calculate mean from label2\n",
        "  images_label = subset_image_label(X, y, label_2)\n",
        "  label2_avg = np.mean(images_label, axis = 0)\n",
        "\n",
        "  # calculate difference and plot difference, avg label1 and avg label2\n",
        "  difference_mean = label1_avg - label2_avg\n",
        "  fig, axes = plt.subplots(nrows=1, ncols=3, figsize=figsize)\n",
        "  axes[0].imshow(label1_avg, cmap='gray')\n",
        "  axes[0].set_title(f'Average {label_1}')\n",
        "  axes[1].imshow(label2_avg, cmap='gray')\n",
        "  axes[1].set_title(f'Average {label_2}')\n",
        "  axes[2].imshow(difference_mean, cmap='gray')\n",
        "  axes[2].set_title(f'Difference image: Avg {label_1} & {label_2}')\n",
        "  if save_image:\n",
        "    plt.savefig(f\"{file_path}/avg_diff.png\", bbox_inches='tight', dpi=150)\n",
        "  else:\n",
        "    plt.tight_layout()\n",
        "    plt.show()"
      ]
    },
    {
      "cell_type": "code",
      "execution_count": null,
      "metadata": {},
      "outputs": [],
      "source": [
        "diff_bet_avg_image_labels_data_as_array(X=X, y=y,\n",
        "                                        label_1='bad_quality', label_2='good_quality',\n",
        "                                        figsize=(12,10),\n",
        "                                        save_image=True\n",
        "                                        )"
      ]
    },
    {
      "cell_type": "markdown",
      "metadata": {},
      "source": [
        "---"
      ]
    },
    {
      "cell_type": "markdown",
      "metadata": {
        "id": "ltNetd085qHf"
      },
      "source": [
        "## Create Image Montage"
      ]
    },
    {
      "cell_type": "code",
      "execution_count": null,
      "metadata": {
        "id": "aKlnIozA4eQO",
        "outputId": "fd09bc1f-adb1-4511-f6ce-492a6af570c0"
      },
      "outputs": [],
      "source": [
        "import itertools\n",
        "import random\n",
        "sns.set_style(\"white\")\n",
        "\n",
        "def image_montage(dir_path: str, label_to_display: str, nrows: int, ncols: int, figsize: tuple): \n",
        "  \n",
        "\n",
        "  labels = os.listdir(dir_path)\n",
        "\n",
        "  if label_to_display in labels:\n",
        "\n",
        "    images_list = os.listdir(dir_path+'/'+ label_to_display)\n",
        "    if nrows * ncols < len(images_list):\n",
        "      img_idx = random.sample(images_list, nrows * ncols)\n",
        "    else:\n",
        "      print(\n",
        "          f\"Decrease nrows or ncols to create your montage. \\n\"\n",
        "          f\"There are {len(images_list)} in your subset. \"\n",
        "          f\"You requested a montage with {nrows * ncols} spaces\")\n",
        "      return\n",
        "    \n",
        "\n",
        "    list_rows= range(0,nrows)\n",
        "    list_cols= range(0,ncols)\n",
        "    plot_idx = list(itertools.product(list_rows,list_cols))\n",
        "\n",
        "\n",
        "    fig, axes = plt.subplots(nrows=nrows,ncols=ncols, figsize=figsize)\n",
        "    for x in range(0,nrows*ncols):\n",
        "      img = imread(dir_path + '/' + label_to_display + '/' + img_idx[x])\n",
        "      img_shape = img.shape\n",
        "      axes[plot_idx[x][0], plot_idx[x][1]].imshow(img)\n",
        "      axes[plot_idx[x][0], plot_idx[x][1]].set_title(f\"Width {img_shape[1]}px x Height {img_shape[0]}px\")\n",
        "      axes[plot_idx[x][0], plot_idx[x][1]].set_xticks([])\n",
        "      axes[plot_idx[x][0], plot_idx[x][1]].set_yticks([])\n",
        "    plt.tight_layout()\n",
        "    plt.show()\n",
        "\n",
        "\n",
        "  else:\n",
        "    print(\"The label you selected doesn't exist.\")\n",
        "    print(f\"The existing options are: {labels}\")\n"
      ]
    },
    {
      "cell_type": "code",
      "execution_count": null,
      "metadata": {},
      "outputs": [],
      "source": [
        "for label in labels:\n",
        "  print(label)\n",
        "  image_montage(dir_path= train_path,\n",
        "                label_to_display= label,\n",
        "                nrows=3, ncols=3,\n",
        "                figsize=(10,15)\n",
        "                )\n",
        "  print(\"\\n\")"
      ]
    }
  ],
  "metadata": {
    "accelerator": "GPU",
    "colab": {
      "name": "Data Practitioner Jupyter Notebook.ipynb",
      "provenance": [],
      "toc_visible": true
    },
    "interpreter": {
      "hash": "8b8334dab9339717f727a1deaf837b322d7a41c20d15cc86be99a8e69ceec8ce"
    },
    "kernelspec": {
      "display_name": "Python 3.8.12 64-bit ('3.8.12': pyenv)",
      "name": "python3"
    },
    "language_info": {
      "codemirror_mode": {
        "name": "ipython",
        "version": 3
      },
      "file_extension": ".py",
      "mimetype": "text/x-python",
      "name": "python",
      "nbconvert_exporter": "python",
      "pygments_lexer": "ipython3",
      "version": "3.8.12"
    },
    "orig_nbformat": 2
  },
  "nbformat": 4,
  "nbformat_minor": 2
}
