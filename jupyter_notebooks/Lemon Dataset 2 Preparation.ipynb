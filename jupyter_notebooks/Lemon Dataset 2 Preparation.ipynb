{
  "cells": [
    {
      "cell_type": "markdown",
      "metadata": {
        "id": "0aStgWSO0E0E"
      },
      "source": [
        "# Initial Data Preparation"
      ]
    },
    {
      "cell_type": "markdown",
      "metadata": {
        "id": "1eLEkw5O0ECa"
      },
      "source": [
        "## Objectives\n",
        "\n",
        "* Fetch data from Kaggle and save as raw data\n",
        "* Initial data preparation and data cleaning\n",
        "* Split data into Train, Validation, Test sets\n",
        "\n",
        "## Inputs\n",
        "\n",
        "* COCO JSON file\n",
        "\n",
        "## Outputs\n",
        "\n",
        "* Generate Lemon Quality Dataset, split into Train, Validation, and Test sets\n",
        "\n"
      ]
    },
    {
      "cell_type": "markdown",
      "metadata": {
        "id": "9uWZXH9LwoQg"
      },
      "source": [
        "---"
      ]
    },
    {
      "cell_type": "markdown",
      "metadata": {
        "id": "cqP-UeN-z3i2"
      },
      "source": [
        "# Change working directory"
      ]
    },
    {
      "cell_type": "markdown",
      "metadata": {
        "id": "aOGIGS-uz3i2"
      },
      "source": [
        "Change the working directory from its current folder to its parent folder\n",
        "* We access the current directory with os.getcwd()"
      ]
    },
    {
      "cell_type": "code",
      "execution_count": 12,
      "metadata": {
        "id": "wZfF_j-Bz3i4",
        "outputId": "66943449-1436-4c3d-85c7-b85f9f78349b"
      },
      "outputs": [
        {
          "data": {
            "text/plain": [
              "'/workspace/lemon-qualitycontrol'"
            ]
          },
          "execution_count": 12,
          "metadata": {},
          "output_type": "execute_result"
        }
      ],
      "source": [
        "import os\n",
        "current_dir = os.getcwd()\n",
        "current_dir"
      ]
    },
    {
      "cell_type": "markdown",
      "metadata": {
        "id": "9MWW8E7lz3i7"
      },
      "source": [
        "We want to make the parent of the current directory the new current directory\n",
        "* os.path.dirname() gets the parent directory\n",
        "* os.chdir() defines the new current directory"
      ]
    },
    {
      "cell_type": "code",
      "execution_count": null,
      "metadata": {
        "id": "TwHsQRWjz3i9",
        "outputId": "86849db3-cd2f-4cc5-ebb8-2d0caafa1a2c"
      },
      "outputs": [],
      "source": [
        "os.chdir(os.path.dirname(current_dir))\n",
        "print(\"You set a new current directory\")"
      ]
    },
    {
      "cell_type": "markdown",
      "metadata": {
        "id": "M_xPk_Ijz3i-"
      },
      "source": [
        "Confirm the new current directory"
      ]
    },
    {
      "cell_type": "code",
      "execution_count": null,
      "metadata": {
        "id": "vz3S-_kjz3jA",
        "outputId": "00b79ae4-75d0-4a96-d193-ac9ef9847ea2"
      },
      "outputs": [],
      "source": [
        "current_dir = os.getcwd()\n",
        "current_dir"
      ]
    },
    {
      "cell_type": "markdown",
      "metadata": {},
      "source": [
        "## Obtain and save data from Kaggle API"
      ]
    },
    {
      "cell_type": "markdown",
      "metadata": {},
      "source": [
        "Install Kaggle"
      ]
    },
    {
      "cell_type": "code",
      "execution_count": null,
      "metadata": {},
      "outputs": [],
      "source": [
        "!pip install kaggle\n"
      ]
    },
    {
      "cell_type": "markdown",
      "metadata": {},
      "source": [
        "Set Kaggle config directory environment variable to that of current working directory and set authentication to 600 to allow Kaggle package to locate JSON file"
      ]
    },
    {
      "cell_type": "code",
      "execution_count": 13,
      "metadata": {},
      "outputs": [],
      "source": [
        "os.environ['KAGGLE_CONFIG_DIR'] = os.getcwd()\n",
        "! chmod 600 kaggle.json"
      ]
    },
    {
      "cell_type": "markdown",
      "metadata": {},
      "source": [
        "Set KaggleDataset variable as the [URL](https://www.kaggle.com/datasets/maciejadamiak/lemons-quality-control-dataset) for the dataset on Kaggle and create destination folder variable for it to be downloaded into.\n",
        "Run Kaggle command to download dataset into destination folder"
      ]
    },
    {
      "cell_type": "code",
      "execution_count": 14,
      "metadata": {},
      "outputs": [
        {
          "name": "stdout",
          "output_type": "stream",
          "text": [
            "Downloading lemons-quality-control-dataset.zip to inputs/lemon-quality-dataset-2\n",
            "  0%|                                               | 0.00/83.0M [00:00<?, ?B/s]\r  6%|██▎                                   | 5.00M/83.0M [00:00<00:03, 22.1MB/s]\r 11%|████                                  | 9.00M/83.0M [00:00<00:06, 11.5MB/s]\r 30%|███████████▍                          | 25.0M/83.0M [00:01<00:02, 27.6MB/s]\r 40%|███████████████                       | 33.0M/83.0M [00:01<00:01, 35.8MB/s]\r 49%|██████████████████▊                   | 41.0M/83.0M [00:01<00:02, 21.2MB/s]\r 69%|██████████████████████████            | 57.0M/83.0M [00:02<00:00, 29.5MB/s]\r 78%|█████████████████████████████▊        | 65.0M/83.0M [00:02<00:00, 27.3MB/s]\r\n",
            "\r100%|██████████████████████████████████████| 83.0M/83.0M [00:02<00:00, 32.3MB/s]\r\n"
          ]
        }
      ],
      "source": [
        "KaggleDataset = \"maciejadamiak/lemons-quality-control-dataset\"\n",
        "DestinationFolder = \"inputs/lemon-quality-dataset-2\"\n",
        "! kaggle datasets download -d {KaggleDataset} -p {DestinationFolder}"
      ]
    },
    {
      "cell_type": "markdown",
      "metadata": {},
      "source": [
        "Unzip downloaded file and subsequently delete the originally downloaded zipped file"
      ]
    },
    {
      "cell_type": "code",
      "execution_count": 15,
      "metadata": {},
      "outputs": [],
      "source": [
        "import zipfile\n",
        "with zipfile.ZipFile(DestinationFolder + '/lemons-quality-control-dataset.zip', 'r') as zip_ref:\n",
        "    zip_ref.extractall(DestinationFolder)\n",
        "\n",
        "os.remove(DestinationFolder + '/lemons-quality-control-dataset.zip')"
      ]
    },
    {
      "cell_type": "markdown",
      "metadata": {},
      "source": [
        "## Data Cleaning"
      ]
    },
    {
      "cell_type": "markdown",
      "metadata": {},
      "source": [
        "Set input dataset paths"
      ]
    },
    {
      "cell_type": "code",
      "execution_count": 16,
      "metadata": {},
      "outputs": [],
      "source": [
        "DataPath = 'inputs/lemon-quality-dataset-2/data/lemon-dataset/lemon-dataset'\n",
        "ImagePath = f'{DataPath}/images'"
      ]
    },
    {
      "cell_type": "markdown",
      "metadata": {},
      "source": [
        "Import COCO API and use it to read dataset"
      ]
    },
    {
      "cell_type": "code",
      "execution_count": 17,
      "metadata": {},
      "outputs": [
        {
          "name": "stdout",
          "output_type": "stream",
          "text": [
            "loading annotations into memory...\n",
            "Done (t=1.02s)\n",
            "creating index...\n",
            "index created!\n",
            "{1: {'id': 1, 'supercategory': '', 'name': 'image_quality'}, 2: {'id': 2, 'supercategory': '', 'name': 'illness'}, 3: {'id': 3, 'supercategory': '', 'name': 'gangrene'}, 4: {'id': 4, 'supercategory': '', 'name': 'mould'}, 5: {'id': 5, 'supercategory': '', 'name': 'blemish'}, 6: {'id': 6, 'supercategory': '', 'name': 'dark_style_remains'}, 7: {'id': 7, 'supercategory': '', 'name': 'artifact'}, 8: {'id': 8, 'supercategory': '', 'name': 'condition'}, 9: {'id': 9, 'supercategory': '', 'name': 'pedicel'}}\n"
          ]
        }
      ],
      "source": [
        "from pycocotools.coco import COCO\n",
        "coco = COCO(f'{DataPath}/annotations/instances_default.json')\n",
        "cats = coco.cats\n",
        "print(cats)\n"
      ]
    },
    {
      "cell_type": "markdown",
      "metadata": {},
      "source": [
        "Separate lemons into lists of healthy and unhealthy lemons, decided by passing tags for filtering dataset in"
      ]
    },
    {
      "cell_type": "code",
      "execution_count": 47,
      "metadata": {},
      "outputs": [],
      "source": [
        "def sort_lemons(coco, tags: list) -> tuple:\n",
        "    all_lemon_ids = coco.getImgIds()\n",
        "    temp_list = []\n",
        "    bad_ids = []\n",
        "    good_ids = []\n",
        "    for tag in tags:\n",
        "        arr = coco.getImgIds(catIds=[tag])\n",
        "        for i in arr:\n",
        "            temp_list.append(i)\n",
        "    \n",
        "    [bad_ids.append(i) for i in temp_list if i not in bad_ids]\n",
        "    [good_ids.append(i) for i in all_lemon_ids if i not in bad_ids]\n",
        "    bad_lemons = coco.loadImgs(ids=bad_ids)\n",
        "    good_lemons = coco.loadImgs(ids=good_ids)\n",
        "    return bad_lemons, good_lemons\n"
      ]
    },
    {
      "cell_type": "code",
      "execution_count": 48,
      "metadata": {},
      "outputs": [
        {
          "name": "stdout",
          "output_type": "stream",
          "text": [
            "2\n"
          ]
        }
      ],
      "source": [
        "my_sort = sort_lemons(coco=coco, tags=[2,3,4])\n",
        "print(len(my_sort))"
      ]
    },
    {
      "cell_type": "markdown",
      "metadata": {},
      "source": [
        "Move image files into folders "
      ]
    },
    {
      "cell_type": "code",
      "execution_count": 49,
      "metadata": {},
      "outputs": [],
      "source": [
        "import shutil\n",
        "def move_sorted_images(sort: tuple):\n",
        "    labels = ['bad_quality', 'good_quality']\n",
        "    for label in labels:\n",
        "        os.makedirs(name=f'{DataPath}/{label}')\n",
        "    for i in sort[0]: #improve this section of code to iterate through both labels at once\n",
        "        file_ext = i['file_name']\n",
        "        image_file = f'{DataPath}/{file_ext}'                             \n",
        "        shutil.move(image_file, f'{DataPath}/bad_quality')\n",
        "    for i in sort[1]:\n",
        "        file_ext = i['file_name']\n",
        "        image_file = f'{DataPath}/{file_ext}'\n",
        "        shutil.move(image_file, f'{DataPath}/good_quality')\n",
        "    os.rmdir(ImagePath)\n",
        "\n",
        "    "
      ]
    },
    {
      "cell_type": "code",
      "execution_count": 51,
      "metadata": {},
      "outputs": [],
      "source": [
        "my_move = move_sorted_images(sort=my_sort)\n"
      ]
    },
    {
      "cell_type": "markdown",
      "metadata": {},
      "source": [
        "Create folders for lemons to be sorted into"
      ]
    },
    {
      "cell_type": "markdown",
      "metadata": {
        "id": "ZY3l0-AxO93d"
      },
      "source": [
        "---"
      ]
    },
    {
      "cell_type": "markdown",
      "metadata": {},
      "source": [
        "## Data Cleaning"
      ]
    },
    {
      "cell_type": "markdown",
      "metadata": {},
      "source": [
        "Remove documentation folder and README"
      ]
    },
    {
      "cell_type": "code",
      "execution_count": null,
      "metadata": {},
      "outputs": [],
      "source": [
        "import shutil\n",
        "shutil.rmtree('inputs/lemon-quality-dataset-2/docs/')\n",
        "os.remove('inputs/lemon-quality-dataset-2/README.MD')"
      ]
    },
    {
      "cell_type": "markdown",
      "metadata": {},
      "source": []
    },
    {
      "cell_type": "code",
      "execution_count": null,
      "metadata": {},
      "outputs": [],
      "source": [
        "image_count = int(len(os.listdir('inputs/lemon-quality-dataset-2/data/lemon-dataset/lemon-dataset/images/')))\n",
        "image_count"
      ]
    }
  ],
  "metadata": {
    "accelerator": "GPU",
    "colab": {
      "name": "Data Practitioner Jupyter Notebook.ipynb",
      "provenance": [],
      "toc_visible": true
    },
    "interpreter": {
      "hash": "8b8334dab9339717f727a1deaf837b322d7a41c20d15cc86be99a8e69ceec8ce"
    },
    "kernelspec": {
      "display_name": "Python 3.8.12 64-bit ('3.8.12': pyenv)",
      "name": "python3"
    },
    "language_info": {
      "codemirror_mode": {
        "name": "ipython",
        "version": 3
      },
      "file_extension": ".py",
      "mimetype": "text/x-python",
      "name": "python",
      "nbconvert_exporter": "python",
      "pygments_lexer": "ipython3",
      "version": "3.8.12"
    },
    "orig_nbformat": 2
  },
  "nbformat": 4,
  "nbformat_minor": 2
}
