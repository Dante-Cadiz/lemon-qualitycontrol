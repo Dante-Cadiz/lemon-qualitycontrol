{
  "cells": [
    {
      "cell_type": "markdown",
      "metadata": {
        "id": "0aStgWSO0E0E"
      },
      "source": [
        "# Initial Data Preparation"
      ]
    },
    {
      "cell_type": "markdown",
      "metadata": {
        "id": "1eLEkw5O0ECa"
      },
      "source": [
        "## Objectives\n",
        "\n",
        "* Fetch data from Kaggle and save as raw data in organised folders\n",
        "* Initial data preparation and data cleaning - removing non image files\n",
        "* Read COCO annotations of second dataset to split into good and bad quality lemons\n",
        "* Combine two datasets into a single one for analysis\n",
        "* Perform image focal point isolation and background cropping tasks to uniformise dataset\n",
        "* Split data into Train, Validation, Test sets\n",
        "\n",
        "## Inputs\n",
        "\n",
        "* Kaggle JSON file - authentication token\n",
        "\n",
        "## Outputs\n",
        "\n",
        "* Generate Lemon Quality Dataset, split into Train, Validation, and Test sets\n",
        "\n"
      ]
    },
    {
      "cell_type": "markdown",
      "metadata": {
        "id": "9uWZXH9LwoQg"
      },
      "source": [
        "---"
      ]
    },
    {
      "cell_type": "markdown",
      "metadata": {
        "id": "cqP-UeN-z3i2"
      },
      "source": [
        "# Change working directory"
      ]
    },
    {
      "cell_type": "markdown",
      "metadata": {
        "id": "aOGIGS-uz3i2"
      },
      "source": [
        "Change the working directory from its current folder to its parent folder\n",
        "* We access the current directory with os.getcwd()"
      ]
    },
    {
      "cell_type": "code",
      "execution_count": 1,
      "metadata": {
        "id": "wZfF_j-Bz3i4",
        "outputId": "66943449-1436-4c3d-85c7-b85f9f78349b"
      },
      "outputs": [
        {
          "data": {
            "text/plain": [
              "'/workspace/lemon-qualitycontrol/jupyter_notebooks'"
            ]
          },
          "execution_count": 1,
          "metadata": {},
          "output_type": "execute_result"
        }
      ],
      "source": [
        "import os\n",
        "current_dir = os.getcwd()\n",
        "current_dir"
      ]
    },
    {
      "cell_type": "markdown",
      "metadata": {
        "id": "9MWW8E7lz3i7"
      },
      "source": [
        "We want to make the parent of the current directory the new current directory\n",
        "* os.path.dirname() gets the parent directory\n",
        "* os.chdir() defines the new current directory"
      ]
    },
    {
      "cell_type": "code",
      "execution_count": 2,
      "metadata": {
        "id": "TwHsQRWjz3i9",
        "outputId": "86849db3-cd2f-4cc5-ebb8-2d0caafa1a2c"
      },
      "outputs": [
        {
          "name": "stdout",
          "output_type": "stream",
          "text": [
            "You set a new current directory\n"
          ]
        }
      ],
      "source": [
        "os.chdir(os.path.dirname(current_dir))\n",
        "print(\"You set a new current directory\")"
      ]
    },
    {
      "cell_type": "markdown",
      "metadata": {
        "id": "M_xPk_Ijz3i-"
      },
      "source": [
        "Confirm the new current directory"
      ]
    },
    {
      "cell_type": "code",
      "execution_count": 3,
      "metadata": {
        "id": "vz3S-_kjz3jA",
        "outputId": "00b79ae4-75d0-4a96-d193-ac9ef9847ea2"
      },
      "outputs": [
        {
          "data": {
            "text/plain": [
              "'/workspace/lemon-qualitycontrol'"
            ]
          },
          "execution_count": 3,
          "metadata": {},
          "output_type": "execute_result"
        }
      ],
      "source": [
        "current_dir = os.getcwd()\n",
        "current_dir"
      ]
    },
    {
      "cell_type": "markdown",
      "metadata": {},
      "source": [
        "## Obtain and save data from Kaggle API"
      ]
    },
    {
      "cell_type": "markdown",
      "metadata": {},
      "source": [
        "Install Kaggle"
      ]
    },
    {
      "cell_type": "code",
      "execution_count": 4,
      "metadata": {},
      "outputs": [
        {
          "name": "stdout",
          "output_type": "stream",
          "text": [
            "Collecting kaggle\n",
            "  Downloading kaggle-1.5.12.tar.gz (58 kB)\n",
            "\u001b[2K     \u001b[90m━━━━━━━━━━━━━━━━━━━━━━━━━━━━━━━━━━━━━━━━\u001b[0m \u001b[32m59.0/59.0 kB\u001b[0m \u001b[31m7.3 MB/s\u001b[0m eta \u001b[36m0:00:00\u001b[0m\n",
            "\u001b[?25h  Preparing metadata (setup.py) ... \u001b[?25ldone\n",
            "\u001b[?25hRequirement already satisfied: six>=1.10 in /workspace/.pip-modules/lib/python3.8/site-packages (from kaggle) (1.15.0)\n",
            "Requirement already satisfied: certifi in /home/gitpod/.pyenv/versions/3.8.12/lib/python3.8/site-packages (from kaggle) (2022.9.24)\n",
            "Requirement already satisfied: python-dateutil in /home/gitpod/.pyenv/versions/3.8.12/lib/python3.8/site-packages (from kaggle) (2.8.2)\n",
            "Requirement already satisfied: requests in /home/gitpod/.pyenv/versions/3.8.12/lib/python3.8/site-packages (from kaggle) (2.28.1)\n",
            "Collecting tqdm\n",
            "  Downloading tqdm-4.64.1-py2.py3-none-any.whl (78 kB)\n",
            "\u001b[2K     \u001b[90m━━━━━━━━━━━━━━━━━━━━━━━━━━━━━━━━━━━━━━━━\u001b[0m \u001b[32m78.5/78.5 kB\u001b[0m \u001b[31m12.9 MB/s\u001b[0m eta \u001b[36m0:00:00\u001b[0m\n",
            "\u001b[?25hCollecting python-slugify\n",
            "  Downloading python_slugify-6.1.2-py2.py3-none-any.whl (9.4 kB)\n",
            "Requirement already satisfied: urllib3 in /home/gitpod/.pyenv/versions/3.8.12/lib/python3.8/site-packages (from kaggle) (1.26.12)\n",
            "Collecting text-unidecode>=1.3\n",
            "  Downloading text_unidecode-1.3-py2.py3-none-any.whl (78 kB)\n",
            "\u001b[2K     \u001b[90m━━━━━━━━━━━━━━━━━━━━━━━━━━━━━━━━━━━━━━━━\u001b[0m \u001b[32m78.2/78.2 kB\u001b[0m \u001b[31m28.9 MB/s\u001b[0m eta \u001b[36m0:00:00\u001b[0m\n",
            "\u001b[?25hRequirement already satisfied: charset-normalizer<3,>=2 in /home/gitpod/.pyenv/versions/3.8.12/lib/python3.8/site-packages (from requests->kaggle) (2.1.1)\n",
            "Requirement already satisfied: idna<4,>=2.5 in /home/gitpod/.pyenv/versions/3.8.12/lib/python3.8/site-packages (from requests->kaggle) (3.4)\n",
            "Building wheels for collected packages: kaggle\n",
            "  Building wheel for kaggle (setup.py) ... \u001b[?25ldone\n",
            "\u001b[?25h  Created wheel for kaggle: filename=kaggle-1.5.12-py3-none-any.whl size=73031 sha256=9885b7b79b2b9a77dfa39c996f19e018dbdcff38207fcb4fb59e2aa748aed765\n",
            "  Stored in directory: /home/gitpod/.cache/pip/wheels/03/f3/c7/fc5a63bb33d22177609b06c5b4c714b5eb3f1b195ce9dc5e47\n",
            "Successfully built kaggle\n",
            "Installing collected packages: text-unidecode, tqdm, python-slugify, kaggle\n",
            "Successfully installed kaggle-1.5.12 python-slugify-6.1.2 text-unidecode-1.3 tqdm-4.64.1\n",
            "\n",
            "\u001b[1m[\u001b[0m\u001b[34;49mnotice\u001b[0m\u001b[1;39;49m]\u001b[0m\u001b[39;49m A new release of pip available: \u001b[0m\u001b[31;49m22.3\u001b[0m\u001b[39;49m -> \u001b[0m\u001b[32;49m22.3.1\u001b[0m\n",
            "\u001b[1m[\u001b[0m\u001b[34;49mnotice\u001b[0m\u001b[1;39;49m]\u001b[0m\u001b[39;49m To update, run: \u001b[0m\u001b[32;49mpip install --upgrade pip\u001b[0m\n"
          ]
        }
      ],
      "source": [
        "!pip install kaggle"
      ]
    },
    {
      "cell_type": "markdown",
      "metadata": {},
      "source": [
        "Set Kaggle config directory environment variable to that of current working directory and set authentication to 600 to allow Kaggle package to locate JSON file"
      ]
    },
    {
      "cell_type": "code",
      "execution_count": 5,
      "metadata": {},
      "outputs": [],
      "source": [
        "os.environ['KAGGLE_CONFIG_DIR'] = os.getcwd()\n",
        "! chmod 600 kaggle.json"
      ]
    },
    {
      "cell_type": "markdown",
      "metadata": {},
      "source": [
        "Set KaggleDataset variable as the [URL](https://www.kaggle.com/datasets/yusufemir/lemon-quality-dataset) for the dataset on Kaggle and create destination folder variable for it to be downloaded into.\n",
        "Run Kaggle command to download dataset into destination folder. Repeat process for the second Kaggle dataset at the following [URL](https://www.kaggle.com/datasets/maciejadamiak/lemons-quality-control-dataset)"
      ]
    },
    {
      "cell_type": "code",
      "execution_count": 19,
      "metadata": {},
      "outputs": [
        {
          "name": "stdout",
          "output_type": "stream",
          "text": [
            "Downloading lemon-quality-dataset.zip to inputs/lemon-quality-dataset\n",
            "100%|███████████████████████████████████████▉| 232M/233M [00:06<00:00, 47.2MB/s]\n",
            "100%|████████████████████████████████████████| 233M/233M [00:06<00:00, 39.7MB/s]\n",
            "Downloading lemons-quality-control-dataset.zip to inputs/lemon-quality-dataset-2\n",
            " 98%|█████████████████████████████████████ | 81.0M/83.0M [00:03<00:00, 31.1MB/s]\n",
            "100%|██████████████████████████████████████| 83.0M/83.0M [00:03<00:00, 23.7MB/s]\n"
          ]
        }
      ],
      "source": [
        "KaggleDataset = \"yusufemir/lemon-quality-dataset\"\n",
        "DestinationFolder = \"inputs/lemon-quality-dataset\"\n",
        "! kaggle datasets download -d {KaggleDataset} -p {DestinationFolder}\n",
        "\n",
        "KaggleDataset2 = \"maciejadamiak/lemons-quality-control-dataset\"\n",
        "DestinationFolder2 = \"inputs/lemon-quality-dataset-2\"\n",
        "! kaggle datasets download -d {KaggleDataset2} -p {DestinationFolder2}\n"
      ]
    },
    {
      "cell_type": "markdown",
      "metadata": {},
      "source": [
        "Unzip downloaded files and subsequently delete the originally downloaded zipped files"
      ]
    },
    {
      "cell_type": "code",
      "execution_count": 20,
      "metadata": {},
      "outputs": [],
      "source": [
        "import zipfile\n",
        "with zipfile.ZipFile(DestinationFolder + '/lemon-quality-dataset.zip', 'r') as zip_ref:\n",
        "    zip_ref.extractall(DestinationFolder)\n",
        "\n",
        "os.remove(DestinationFolder + '/lemon-quality-dataset.zip')\n",
        "\n",
        "with zipfile.ZipFile(DestinationFolder2 + '/lemons-quality-control-dataset.zip', 'r') as zip_ref:\n",
        "    zip_ref.extractall(DestinationFolder2)\n",
        "\n",
        "os.remove(DestinationFolder2 + '/lemons-quality-control-dataset.zip')"
      ]
    },
    {
      "cell_type": "markdown",
      "metadata": {
        "id": "ZY3l0-AxO93d"
      },
      "source": [
        "---"
      ]
    },
    {
      "cell_type": "markdown",
      "metadata": {
        "id": "uFQo3ycuO-v6"
      },
      "source": [
        "# Data Preparation"
      ]
    },
    {
      "cell_type": "markdown",
      "metadata": {},
      "source": [
        "Set input dataset paths for first and second lemon dataset"
      ]
    },
    {
      "cell_type": "code",
      "execution_count": 9,
      "metadata": {},
      "outputs": [],
      "source": [
        "DataPath = \"inputs/lemon-quality-dataset/lemon_dataset\"\n",
        "DataPath2 = 'inputs/lemon-quality-dataset-2/data/lemon-dataset/lemon-dataset'"
      ]
    },
    {
      "cell_type": "markdown",
      "metadata": {},
      "source": [
        "Import COCO API and use it to read dataset"
      ]
    },
    {
      "cell_type": "code",
      "execution_count": 10,
      "metadata": {},
      "outputs": [
        {
          "name": "stdout",
          "output_type": "stream",
          "text": [
            "loading annotations into memory...\n",
            "Done (t=0.82s)\n",
            "creating index...\n",
            "index created!\n",
            "year: 2020\n",
            "url: https://github.com/softwaremill/lemon-dataset\n",
            "version: 1\n",
            "date_created: 28.07.2020\n",
            "contributor: Maciej Adamiak\n",
            "institution: SoftwareMill\n",
            "description: Lemons quality control dataset\n",
            "{1: {'id': 1, 'supercategory': '', 'name': 'image_quality'}, 2: {'id': 2, 'supercategory': '', 'name': 'illness'}, 3: {'id': 3, 'supercategory': '', 'name': 'gangrene'}, 4: {'id': 4, 'supercategory': '', 'name': 'mould'}, 5: {'id': 5, 'supercategory': '', 'name': 'blemish'}, 6: {'id': 6, 'supercategory': '', 'name': 'dark_style_remains'}, 7: {'id': 7, 'supercategory': '', 'name': 'artifact'}, 8: {'id': 8, 'supercategory': '', 'name': 'condition'}, 9: {'id': 9, 'supercategory': '', 'name': 'pedicel'}}\n",
            "None\n"
          ]
        }
      ],
      "source": [
        "from pycocotools.coco import COCO\n",
        "coco = COCO(f'{DataPath2}/annotations/instances_default.json')\n",
        "cats = coco.cats\n",
        "info = coco.info()\n",
        "print(cats)\n",
        "print(info)\n",
        "\n"
      ]
    },
    {
      "cell_type": "markdown",
      "metadata": {},
      "source": [
        "Remove all lemons with a pedicel in the foreground"
      ]
    },
    {
      "cell_type": "code",
      "execution_count": 11,
      "metadata": {},
      "outputs": [],
      "source": [
        "##Pseudo code: delete all lemons that have a prominent pedicel\n",
        "##"
      ]
    },
    {
      "cell_type": "code",
      "execution_count": 12,
      "metadata": {},
      "outputs": [
        {
          "name": "stdout",
          "output_type": "stream",
          "text": [
            "1245\n",
            "1445\n",
            "Lemons successfully sorted\n"
          ]
        }
      ],
      "source": [
        "## Run function to delete all lemons with pedicel"
      ]
    },
    {
      "cell_type": "markdown",
      "metadata": {},
      "source": [
        "Separate lemons into lists of healthy and unhealthy lemons, decided by passing tags for filtering dataset in. Here, illness, gangrene, and mould are chosen as markers for unhealthy lemons, and the lemons on which said traits were annotated are separated from those on which they were not."
      ]
    },
    {
      "cell_type": "code",
      "execution_count": 8,
      "metadata": {},
      "outputs": [],
      "source": [
        "def sort_lemons(coco, tags: list) -> tuple:\n",
        "    all_lemon_ids = coco.getImgIds()\n",
        "    temp_list = []\n",
        "    bad_ids = []\n",
        "    good_ids = []\n",
        "    for tag in tags:\n",
        "        arr = coco.getImgIds(catIds=[tag])\n",
        "        for i in arr:\n",
        "            temp_list.append(i)\n",
        "    \n",
        "    [bad_ids.append(i) for i in temp_list if i not in bad_ids]\n",
        "    [good_ids.append(i) for i in all_lemon_ids if i not in bad_ids]\n",
        "    bad_lemons = coco.loadImgs(ids=bad_ids)\n",
        "    good_lemons = coco.loadImgs(ids=good_ids)\n",
        "    print(len(bad_lemons))\n",
        "    print(len(good_lemons))\n",
        "    return bad_lemons, good_lemons\n"
      ]
    },
    {
      "cell_type": "code",
      "execution_count": 9,
      "metadata": {},
      "outputs": [
        {
          "name": "stdout",
          "output_type": "stream",
          "text": [
            "2566\n",
            "124\n",
            "Lemons successfully sorted\n"
          ]
        }
      ],
      "source": [
        "my_sort = sort_lemons(coco=coco, tags=[2,3,4,5,6])\n",
        "print('Lemons successfully sorted')"
      ]
    },
    {
      "cell_type": "markdown",
      "metadata": {},
      "source": [
        "Move sorted image files into folders with first lemon dataset"
      ]
    },
    {
      "cell_type": "code",
      "execution_count": 8,
      "metadata": {},
      "outputs": [],
      "source": [
        "import shutil\n",
        "def move_sorted_images(sort: tuple):\n",
        "    for i in sort[0]: #improve this section of code to iterate through both labels at once\n",
        "        file_ext = i['file_name']\n",
        "        image_file = f'{DataPath2}/{file_ext}'                             \n",
        "        shutil.move(image_file, f'{DataPath}/bad_quality')\n",
        "    for i in sort[1]:\n",
        "        file_ext = i['file_name']\n",
        "        image_file = f'{DataPath2}/{file_ext}'\n",
        "        shutil.move(image_file, f'{DataPath}/good_quality')\n",
        "\n",
        "    "
      ]
    },
    {
      "cell_type": "code",
      "execution_count": 11,
      "metadata": {},
      "outputs": [],
      "source": [
        "my_move = move_sorted_images(sort=my_sort)\n"
      ]
    },
    {
      "cell_type": "markdown",
      "metadata": {},
      "source": [
        "## Data Cleaning"
      ]
    },
    {
      "cell_type": "markdown",
      "metadata": {},
      "source": [
        "Remove second lemon quality dataset folder, along with empty background folder and git hooks folder in first dataset"
      ]
    },
    {
      "cell_type": "code",
      "execution_count": 12,
      "metadata": {},
      "outputs": [],
      "source": [
        "shutil.rmtree('inputs/lemon-quality-dataset-2/')\n",
        "shutil.rmtree(f'{DataPath}/empty_background/')\n",
        "shutil.rmtree(f'{DataPath}/.git/')"
      ]
    },
    {
      "cell_type": "markdown",
      "metadata": {},
      "source": [
        "Check for and remove non-image files"
      ]
    },
    {
      "cell_type": "code",
      "execution_count": 13,
      "metadata": {},
      "outputs": [],
      "source": [
        "def remove_non_image_file(my_data_dir: str):\n",
        "    image_extension = ('.png', '.jpg', '.jpeg')\n",
        "    folders = os.listdir(my_data_dir)\n",
        "    for folder in folders:\n",
        "        files = os.listdir(my_data_dir + '/' + folder)\n",
        "        i = []\n",
        "        j = []\n",
        "        for given_file in files:\n",
        "            if not given_file.lower().endswith(image_extension):\n",
        "                file_location = my_data_dir + '/' + folder + '/' + given_file\n",
        "                os.remove(file_location) \n",
        "                i.append(1)\n",
        "            else:\n",
        "                j.append(1)\n",
        "                pass\n",
        "        print(f\"Folder: {folder} - has image file\",len(j))\n",
        "        print(f\"Folder: {folder} - has non-image file\",len(i))\n",
        "    \n",
        "    "
      ]
    },
    {
      "cell_type": "code",
      "execution_count": 14,
      "metadata": {},
      "outputs": [
        {
          "name": "stdout",
          "output_type": "stream",
          "text": [
            "Folder: bad_quality - has image file 3517\n",
            "Folder: bad_quality - has non-image file 0\n",
            "Folder: good_quality - has image file 1249\n",
            "Folder: good_quality - has non-image file 0\n"
          ]
        }
      ],
      "source": [
        "remove_non_image_file(my_data_dir=DataPath)"
      ]
    },
    {
      "cell_type": "markdown",
      "metadata": {},
      "source": [
        "---"
      ]
    },
    {
      "cell_type": "markdown",
      "metadata": {},
      "source": [
        "## Remove Image Backgrounds"
      ]
    },
    {
      "cell_type": "markdown",
      "metadata": {},
      "source": [
        "Install rembg package"
      ]
    },
    {
      "cell_type": "code",
      "execution_count": 15,
      "metadata": {},
      "outputs": [
        {
          "name": "stdout",
          "output_type": "stream",
          "text": [
            "Requirement already satisfied: rembg in /workspace/.pip-modules/lib/python3.8/site-packages (2.0.25)\n",
            "Collecting numpy==1.21.6\n",
            "  Downloading numpy-1.21.6-cp38-cp38-manylinux_2_12_x86_64.manylinux2010_x86_64.whl (15.7 MB)\n",
            "\u001b[2K     \u001b[90m━━━━━━━━━━━━━━━━━━━━━━━━━━━━━━━━━━━━━━━\u001b[0m \u001b[32m15.7/15.7 MB\u001b[0m \u001b[31m102.3 MB/s\u001b[0m eta \u001b[36m0:00:00\u001b[0m00:01\u001b[0m0:01\u001b[0m\n",
            "\u001b[?25hCollecting click==8.1.3\n",
            "  Downloading click-8.1.3-py3-none-any.whl (96 kB)\n",
            "\u001b[2K     \u001b[90m━━━━━━━━━━━━━━━━━━━━━━━━━━━━━━━━━━━━━━━━\u001b[0m \u001b[32m96.6/96.6 kB\u001b[0m \u001b[31m44.4 MB/s\u001b[0m eta \u001b[36m0:00:00\u001b[0m\n",
            "\u001b[?25hRequirement already satisfied: opencv-python-headless==4.6.0.66 in /workspace/.pip-modules/lib/python3.8/site-packages (from rembg) (4.6.0.66)\n",
            "Requirement already satisfied: pymatting==1.1.8 in /workspace/.pip-modules/lib/python3.8/site-packages (from rembg) (1.1.8)\n",
            "Requirement already satisfied: scikit-image==0.19.3 in /workspace/.pip-modules/lib/python3.8/site-packages (from rembg) (0.19.3)\n",
            "Requirement already satisfied: onnxruntime==1.12.1 in /workspace/.pip-modules/lib/python3.8/site-packages (from rembg) (1.12.1)\n",
            "Requirement already satisfied: pillow==9.2.0 in /workspace/.pip-modules/lib/python3.8/site-packages (from rembg) (9.2.0)\n",
            "Requirement already satisfied: gdown==4.5.1 in /workspace/.pip-modules/lib/python3.8/site-packages (from rembg) (4.5.1)\n",
            "Requirement already satisfied: uvicorn==0.18.3 in /workspace/.pip-modules/lib/python3.8/site-packages (from rembg) (0.18.3)\n",
            "Requirement already satisfied: imagehash==4.2.1 in /workspace/.pip-modules/lib/python3.8/site-packages (from rembg) (4.2.1)\n",
            "Requirement already satisfied: scipy==1.7.3 in /workspace/.pip-modules/lib/python3.8/site-packages (from rembg) (1.7.3)\n",
            "Requirement already satisfied: aiohttp==3.8.1 in /workspace/.pip-modules/lib/python3.8/site-packages (from rembg) (3.8.1)\n",
            "Requirement already satisfied: watchdog==2.1.9 in /workspace/.pip-modules/lib/python3.8/site-packages (from rembg) (2.1.9)\n",
            "Requirement already satisfied: python-multipart==0.0.5 in /workspace/.pip-modules/lib/python3.8/site-packages (from rembg) (0.0.5)\n",
            "Requirement already satisfied: tqdm==4.64.0 in /workspace/.pip-modules/lib/python3.8/site-packages (from rembg) (4.64.0)\n",
            "Requirement already satisfied: fastapi==0.80.0 in /workspace/.pip-modules/lib/python3.8/site-packages (from rembg) (0.80.0)\n",
            "Requirement already satisfied: asyncer==0.0.1 in /workspace/.pip-modules/lib/python3.8/site-packages (from rembg) (0.0.1)\n",
            "Requirement already satisfied: filetype==1.1.0 in /workspace/.pip-modules/lib/python3.8/site-packages (from rembg) (1.1.0)\n",
            "Requirement already satisfied: aiosignal>=1.1.2 in /workspace/.pip-modules/lib/python3.8/site-packages (from aiohttp==3.8.1->rembg) (1.2.0)\n",
            "Requirement already satisfied: attrs>=17.3.0 in /home/gitpod/.pyenv/versions/3.8.12/lib/python3.8/site-packages (from aiohttp==3.8.1->rembg) (22.1.0)\n",
            "Requirement already satisfied: multidict<7.0,>=4.5 in /workspace/.pip-modules/lib/python3.8/site-packages (from aiohttp==3.8.1->rembg) (6.0.2)\n",
            "Requirement already satisfied: frozenlist>=1.1.1 in /workspace/.pip-modules/lib/python3.8/site-packages (from aiohttp==3.8.1->rembg) (1.3.1)\n",
            "Requirement already satisfied: async-timeout<5.0,>=4.0.0a3 in /workspace/.pip-modules/lib/python3.8/site-packages (from aiohttp==3.8.1->rembg) (4.0.2)\n",
            "Requirement already satisfied: yarl<2.0,>=1.0 in /workspace/.pip-modules/lib/python3.8/site-packages (from aiohttp==3.8.1->rembg) (1.8.1)\n",
            "Requirement already satisfied: charset-normalizer<3.0,>=2.0 in /home/gitpod/.pyenv/versions/3.8.12/lib/python3.8/site-packages (from aiohttp==3.8.1->rembg) (2.1.1)\n",
            "Requirement already satisfied: anyio<4.0.0,>=3.4.0 in /home/gitpod/.pyenv/versions/3.8.12/lib/python3.8/site-packages (from asyncer==0.0.1->rembg) (3.6.2)\n",
            "Requirement already satisfied: pydantic!=1.7,!=1.7.1,!=1.7.2,!=1.7.3,!=1.8,!=1.8.1,<2.0.0,>=1.6.2 in /workspace/.pip-modules/lib/python3.8/site-packages (from fastapi==0.80.0->rembg) (1.10.2)\n",
            "Requirement already satisfied: starlette==0.19.1 in /workspace/.pip-modules/lib/python3.8/site-packages (from fastapi==0.80.0->rembg) (0.19.1)\n",
            "Requirement already satisfied: requests[socks] in /home/gitpod/.pyenv/versions/3.8.12/lib/python3.8/site-packages (from gdown==4.5.1->rembg) (2.28.1)\n",
            "Requirement already satisfied: six in /workspace/.pip-modules/lib/python3.8/site-packages (from gdown==4.5.1->rembg) (1.15.0)\n",
            "Requirement already satisfied: beautifulsoup4 in /home/gitpod/.pyenv/versions/3.8.12/lib/python3.8/site-packages (from gdown==4.5.1->rembg) (4.11.1)\n",
            "Requirement already satisfied: filelock in /home/gitpod/.pyenv/versions/3.8.12/lib/python3.8/site-packages (from gdown==4.5.1->rembg) (3.8.0)\n",
            "Requirement already satisfied: PyWavelets in /workspace/.pip-modules/lib/python3.8/site-packages (from imagehash==4.2.1->rembg) (1.4.1)\n",
            "Requirement already satisfied: flatbuffers in /workspace/.pip-modules/lib/python3.8/site-packages (from onnxruntime==1.12.1->rembg) (1.12)\n",
            "Requirement already satisfied: protobuf in /workspace/.pip-modules/lib/python3.8/site-packages (from onnxruntime==1.12.1->rembg) (3.19.6)\n",
            "Requirement already satisfied: packaging in /home/gitpod/.pyenv/versions/3.8.12/lib/python3.8/site-packages (from onnxruntime==1.12.1->rembg) (21.3)\n",
            "Requirement already satisfied: coloredlogs in /workspace/.pip-modules/lib/python3.8/site-packages (from onnxruntime==1.12.1->rembg) (15.0.1)\n",
            "Requirement already satisfied: sympy in /workspace/.pip-modules/lib/python3.8/site-packages (from onnxruntime==1.12.1->rembg) (1.11.1)\n",
            "Requirement already satisfied: numba!=0.49.0 in /workspace/.pip-modules/lib/python3.8/site-packages (from pymatting==1.1.8->rembg) (0.56.4)\n",
            "Requirement already satisfied: networkx>=2.2 in /workspace/.pip-modules/lib/python3.8/site-packages (from scikit-image==0.19.3->rembg) (2.8.8)\n",
            "Requirement already satisfied: imageio>=2.4.1 in /workspace/.pip-modules/lib/python3.8/site-packages (from scikit-image==0.19.3->rembg) (2.22.3)\n",
            "Requirement already satisfied: tifffile>=2019.7.26 in /workspace/.pip-modules/lib/python3.8/site-packages (from scikit-image==0.19.3->rembg) (2022.10.10)\n",
            "Requirement already satisfied: h11>=0.8 in /workspace/.pip-modules/lib/python3.8/site-packages (from uvicorn==0.18.3->rembg) (0.14.0)\n",
            "Collecting typing-extensions>=3.10.0\n",
            "  Downloading typing_extensions-4.4.0-py3-none-any.whl (26 kB)\n",
            "Requirement already satisfied: sniffio>=1.1 in /home/gitpod/.pyenv/versions/3.8.12/lib/python3.8/site-packages (from anyio<4.0.0,>=3.4.0->asyncer==0.0.1->rembg) (1.3.0)\n",
            "Requirement already satisfied: idna>=2.8 in /home/gitpod/.pyenv/versions/3.8.12/lib/python3.8/site-packages (from anyio<4.0.0,>=3.4.0->asyncer==0.0.1->rembg) (3.4)\n",
            "Requirement already satisfied: setuptools in /home/gitpod/.pyenv/versions/3.8.12/lib/python3.8/site-packages (from numba!=0.49.0->pymatting==1.1.8->rembg) (65.5.0)\n",
            "Requirement already satisfied: importlib-metadata in /home/gitpod/.pyenv/versions/3.8.12/lib/python3.8/site-packages (from numba!=0.49.0->pymatting==1.1.8->rembg) (5.0.0)\n",
            "Requirement already satisfied: llvmlite<0.40,>=0.39.0dev0 in /workspace/.pip-modules/lib/python3.8/site-packages (from numba!=0.49.0->pymatting==1.1.8->rembg) (0.39.1)\n",
            "Requirement already satisfied: pyparsing!=3.0.5,>=2.0.2 in /home/gitpod/.pyenv/versions/3.8.12/lib/python3.8/site-packages (from packaging->onnxruntime==1.12.1->rembg) (3.0.9)\n",
            "Requirement already satisfied: soupsieve>1.2 in /home/gitpod/.pyenv/versions/3.8.12/lib/python3.8/site-packages (from beautifulsoup4->gdown==4.5.1->rembg) (2.3.2.post1)\n",
            "Requirement already satisfied: humanfriendly>=9.1 in /workspace/.pip-modules/lib/python3.8/site-packages (from coloredlogs->onnxruntime==1.12.1->rembg) (10.0)\n",
            "Requirement already satisfied: certifi>=2017.4.17 in /home/gitpod/.pyenv/versions/3.8.12/lib/python3.8/site-packages (from requests[socks]->gdown==4.5.1->rembg) (2022.9.24)\n",
            "Requirement already satisfied: urllib3<1.27,>=1.21.1 in /home/gitpod/.pyenv/versions/3.8.12/lib/python3.8/site-packages (from requests[socks]->gdown==4.5.1->rembg) (1.26.12)\n",
            "Requirement already satisfied: PySocks!=1.5.7,>=1.5.6 in /workspace/.pip-modules/lib/python3.8/site-packages (from requests[socks]->gdown==4.5.1->rembg) (1.7.1)\n",
            "Requirement already satisfied: mpmath>=0.19 in /workspace/.pip-modules/lib/python3.8/site-packages (from sympy->onnxruntime==1.12.1->rembg) (1.2.1)\n",
            "Requirement already satisfied: zipp>=0.5 in /home/gitpod/.pyenv/versions/3.8.12/lib/python3.8/site-packages (from importlib-metadata->numba!=0.49.0->pymatting==1.1.8->rembg) (3.9.0)\n",
            "Installing collected packages: typing-extensions, numpy, click\n",
            "  Attempting uninstall: typing-extensions\n",
            "    Found existing installation: typing-extensions 3.7.4.3\n",
            "    Uninstalling typing-extensions-3.7.4.3:\n",
            "      Successfully uninstalled typing-extensions-3.7.4.3\n",
            "  Attempting uninstall: numpy\n",
            "    Found existing installation: numpy 1.19.2\n",
            "    Uninstalling numpy-1.19.2:\n",
            "      Successfully uninstalled numpy-1.19.2\n",
            "  Attempting uninstall: click\n",
            "    Found existing installation: click 7.1.2\n",
            "    Uninstalling click-7.1.2:\n",
            "      Successfully uninstalled click-7.1.2\n",
            "\u001b[31mERROR: pip's dependency resolver does not currently take into account all the packages that are installed. This behaviour is the source of the following dependency conflicts.\n",
            "tensorflow-cpu 2.6.0 requires numpy~=1.19.2, but you have numpy 1.21.6 which is incompatible.\n",
            "tensorflow-cpu 2.6.0 requires typing-extensions~=3.7.4, but you have typing-extensions 4.4.0 which is incompatible.\n",
            "streamlit 0.85.0 requires click<8.0,>=7.0, but you have click 8.1.3 which is incompatible.\u001b[0m\u001b[31m\n",
            "\u001b[0mSuccessfully installed click-8.1.3 numpy-1.21.6 typing-extensions-4.4.0\n",
            "\n",
            "\u001b[1m[\u001b[0m\u001b[34;49mnotice\u001b[0m\u001b[1;39;49m]\u001b[0m\u001b[39;49m A new release of pip available: \u001b[0m\u001b[31;49m22.3\u001b[0m\u001b[39;49m -> \u001b[0m\u001b[32;49m22.3.1\u001b[0m\n",
            "\u001b[1m[\u001b[0m\u001b[34;49mnotice\u001b[0m\u001b[1;39;49m]\u001b[0m\u001b[39;49m To update, run: \u001b[0m\u001b[32;49mpip install --upgrade pip\u001b[0m\n"
          ]
        }
      ],
      "source": [
        "!pip install rembg"
      ]
    },
    {
      "cell_type": "markdown",
      "metadata": {},
      "source": [
        "Create directories for processed images"
      ]
    },
    {
      "cell_type": "code",
      "execution_count": 16,
      "metadata": {},
      "outputs": [],
      "source": [
        "BadQualityPath = f\"{DataPath}/bad_quality\"\n",
        "GoodQualityPath = f\"{DataPath}/good_quality\"\n",
        "os.makedirs(f\"{DataPath}/bad_quality_processed\")\n",
        "os.makedirs(f\"{DataPath}/good_quality_processed\")\n",
        "BadQualityProcessed = f\"{DataPath}/bad_quality_processed\"\n",
        "GoodQualityProcessed = f\"{DataPath}/good_quality_processed\""
      ]
    },
    {
      "cell_type": "markdown",
      "metadata": {},
      "source": [
        "Remove image background to isolate lemon"
      ]
    },
    {
      "cell_type": "code",
      "execution_count": 17,
      "metadata": {},
      "outputs": [
        {
          "ename": "RuntimeError",
          "evalue": "module compiled against API version 0xe but this version of numpy is 0xd",
          "output_type": "error",
          "traceback": [
            "\u001b[0;31m---------------------------------------------------------------------------\u001b[0m",
            "\u001b[0;31mRuntimeError\u001b[0m                              Traceback (most recent call last)",
            "\u001b[0;31mRuntimeError\u001b[0m: module compiled against API version 0xe but this version of numpy is 0xd"
          ]
        },
        {
          "ename": "SystemError",
          "evalue": "<built-in function __import__> returned a result with an error set",
          "output_type": "error",
          "traceback": [
            "\u001b[0;31m---------------------------------------------------------------------------\u001b[0m",
            "\u001b[0;31mImportError\u001b[0m                               Traceback (most recent call last)",
            "\u001b[0;31mImportError\u001b[0m: numpy.core.multiarray failed to import",
            "\nThe above exception was the direct cause of the following exception:\n",
            "\u001b[0;31mSystemError\u001b[0m                               Traceback (most recent call last)",
            "\u001b[0;31mSystemError\u001b[0m: <built-in function __import__> returned a result with an error set"
          ]
        },
        {
          "name": "stderr",
          "output_type": "stream",
          "text": [
            "Downloading...\n",
            "From: https://drive.google.com/uc?id=1tCU5MM1LhRgGou5OpmpjBQbSrYIUoYab\n",
            "To: /home/gitpod/.u2net/u2net.onnx\n",
            "100%|██████████| 176M/176M [00:00<00:00, 201MB/s]  \n"
          ]
        }
      ],
      "source": [
        "from rembg import remove\n",
        "from PIL import Image\n",
        "import matplotlib.pyplot as plt\n",
        "\n",
        "\n",
        "\n",
        "good_quality_files = os.listdir(GoodQualityPath)\n",
        "for index, my_file in enumerate(good_quality_files):\n",
        "    image=Image.open(f'{GoodQualityPath}/{my_file}')\n",
        "    removed = remove(image)\n",
        "    imageBox = removed.getbbox()\n",
        "    cropped = removed.crop(imageBox)\n",
        "    cropped.save(f'{GoodQualityProcessed}/{index}.png')"
      ]
    },
    {
      "cell_type": "code",
      "execution_count": null,
      "metadata": {},
      "outputs": [],
      "source": [
        "bad_quality_files = os.listdir(BadQualityPath)\n",
        "for index, my_file in enumerate(bad_quality_files):\n",
        "    image=Image.open(f'{BadQualityPath}/{my_file}')\n",
        "    removed = remove(image)\n",
        "    imageBox = removed.getbbox()\n",
        "    cropped = removed.crop(imageBox)\n",
        "    cropped.save(f'{BadQualityProcessed}/{index}.png')"
      ]
    },
    {
      "cell_type": "markdown",
      "metadata": {},
      "source": [
        "Reinstall requirements.txt to avoid dependency conflicts"
      ]
    },
    {
      "cell_type": "code",
      "execution_count": 6,
      "metadata": {},
      "outputs": [
        {
          "name": "stdout",
          "output_type": "stream",
          "text": [
            "Collecting numpy==1.19.2\n",
            "  Downloading numpy-1.19.2-cp38-cp38-manylinux2010_x86_64.whl (14.5 MB)\n",
            "\u001b[2K     \u001b[90m━━━━━━━━━━━━━━━━━━━━━━━━━━━━━━━━━━━━━━━\u001b[0m \u001b[32m14.5/14.5 MB\u001b[0m \u001b[31m116.5 MB/s\u001b[0m eta \u001b[36m0:00:00\u001b[0m00:01\u001b[0m00:01\u001b[0m\n",
            "\u001b[?25hRequirement already satisfied: pandas==1.1.2 in /workspace/.pip-modules/lib/python3.8/site-packages (from -r requirements.txt (line 2)) (1.1.2)\n",
            "Requirement already satisfied: matplotlib==3.3.1 in /workspace/.pip-modules/lib/python3.8/site-packages (from -r requirements.txt (line 3)) (3.3.1)\n",
            "Requirement already satisfied: seaborn==0.11.0 in /workspace/.pip-modules/lib/python3.8/site-packages (from -r requirements.txt (line 4)) (0.11.0)\n",
            "Requirement already satisfied: plotly==4.12.0 in /workspace/.pip-modules/lib/python3.8/site-packages (from -r requirements.txt (line 5)) (4.12.0)\n",
            "Requirement already satisfied: pycocotools==2.0.6 in /workspace/.pip-modules/lib/python3.8/site-packages (from -r requirements.txt (line 6)) (2.0.6)\n",
            "Requirement already satisfied: streamlit==0.85.0 in /workspace/.pip-modules/lib/python3.8/site-packages (from -r requirements.txt (line 7)) (0.85.0)\n",
            "Requirement already satisfied: scikit-image==0.19.3 in /workspace/.pip-modules/lib/python3.8/site-packages (from -r requirements.txt (line 9)) (0.19.3)\n",
            "Requirement already satisfied: scikit-learn==0.24.2 in /workspace/.pip-modules/lib/python3.8/site-packages (from -r requirements.txt (line 10)) (0.24.2)\n",
            "Requirement already satisfied: tensorflow-cpu==2.6.0 in /workspace/.pip-modules/lib/python3.8/site-packages (from -r requirements.txt (line 11)) (2.6.0)\n",
            "Requirement already satisfied: keras==2.6.0 in /workspace/.pip-modules/lib/python3.8/site-packages (from -r requirements.txt (line 12)) (2.6.0)\n",
            "Requirement already satisfied: Keras-Preprocessing==1.1.2 in /workspace/.pip-modules/lib/python3.8/site-packages (from -r requirements.txt (line 13)) (1.1.2)\n",
            "Requirement already satisfied: keras-tuner==1.1.3 in /workspace/.pip-modules/lib/python3.8/site-packages (from -r requirements.txt (line 14)) (1.1.3)\n",
            "Requirement already satisfied: python-dateutil>=2.7.3 in /home/gitpod/.pyenv/versions/3.8.12/lib/python3.8/site-packages (from pandas==1.1.2->-r requirements.txt (line 2)) (2.8.2)\n",
            "Requirement already satisfied: pytz>=2017.2 in /workspace/.pip-modules/lib/python3.8/site-packages (from pandas==1.1.2->-r requirements.txt (line 2)) (2022.6)\n",
            "Requirement already satisfied: certifi>=2020.06.20 in /home/gitpod/.pyenv/versions/3.8.12/lib/python3.8/site-packages (from matplotlib==3.3.1->-r requirements.txt (line 3)) (2022.9.24)\n",
            "Requirement already satisfied: cycler>=0.10 in /workspace/.pip-modules/lib/python3.8/site-packages (from matplotlib==3.3.1->-r requirements.txt (line 3)) (0.11.0)\n",
            "Requirement already satisfied: kiwisolver>=1.0.1 in /workspace/.pip-modules/lib/python3.8/site-packages (from matplotlib==3.3.1->-r requirements.txt (line 3)) (1.4.4)\n",
            "Requirement already satisfied: pyparsing!=2.0.4,!=2.1.2,!=2.1.6,>=2.0.3 in /home/gitpod/.pyenv/versions/3.8.12/lib/python3.8/site-packages (from matplotlib==3.3.1->-r requirements.txt (line 3)) (3.0.9)\n",
            "Requirement already satisfied: pillow>=6.2.0 in /workspace/.pip-modules/lib/python3.8/site-packages (from matplotlib==3.3.1->-r requirements.txt (line 3)) (9.2.0)\n",
            "Requirement already satisfied: scipy>=1.0 in /workspace/.pip-modules/lib/python3.8/site-packages (from seaborn==0.11.0->-r requirements.txt (line 4)) (1.7.3)\n",
            "Requirement already satisfied: six in /workspace/.pip-modules/lib/python3.8/site-packages (from plotly==4.12.0->-r requirements.txt (line 5)) (1.15.0)\n",
            "Requirement already satisfied: retrying>=1.3.3 in /workspace/.pip-modules/lib/python3.8/site-packages (from plotly==4.12.0->-r requirements.txt (line 5)) (1.3.3)\n",
            "Requirement already satisfied: attrs in /home/gitpod/.pyenv/versions/3.8.12/lib/python3.8/site-packages (from streamlit==0.85.0->-r requirements.txt (line 7)) (22.1.0)\n",
            "Requirement already satisfied: astor in /workspace/.pip-modules/lib/python3.8/site-packages (from streamlit==0.85.0->-r requirements.txt (line 7)) (0.8.1)\n",
            "Requirement already satisfied: watchdog in /workspace/.pip-modules/lib/python3.8/site-packages (from streamlit==0.85.0->-r requirements.txt (line 7)) (2.1.9)\n",
            "Requirement already satisfied: packaging in /home/gitpod/.pyenv/versions/3.8.12/lib/python3.8/site-packages (from streamlit==0.85.0->-r requirements.txt (line 7)) (21.3)\n",
            "Requirement already satisfied: blinker in /workspace/.pip-modules/lib/python3.8/site-packages (from streamlit==0.85.0->-r requirements.txt (line 7)) (1.5)\n",
            "Requirement already satisfied: tornado>=5.0 in /home/gitpod/.pyenv/versions/3.8.12/lib/python3.8/site-packages (from streamlit==0.85.0->-r requirements.txt (line 7)) (6.2)\n",
            "Requirement already satisfied: base58 in /workspace/.pip-modules/lib/python3.8/site-packages (from streamlit==0.85.0->-r requirements.txt (line 7)) (2.1.1)\n",
            "Requirement already satisfied: gitpython in /home/gitpod/.pyenv/versions/3.8.12/lib/python3.8/site-packages (from streamlit==0.85.0->-r requirements.txt (line 7)) (3.1.29)\n",
            "Requirement already satisfied: toml in /home/gitpod/.pyenv/versions/3.8.12/lib/python3.8/site-packages (from streamlit==0.85.0->-r requirements.txt (line 7)) (0.10.2)\n",
            "Requirement already satisfied: cachetools>=4.0 in /workspace/.pip-modules/lib/python3.8/site-packages (from streamlit==0.85.0->-r requirements.txt (line 7)) (5.2.0)\n",
            "Requirement already satisfied: tzlocal in /workspace/.pip-modules/lib/python3.8/site-packages (from streamlit==0.85.0->-r requirements.txt (line 7)) (4.2)\n",
            "Collecting click<8.0,>=7.0\n",
            "  Downloading click-7.1.2-py2.py3-none-any.whl (82 kB)\n",
            "\u001b[2K     \u001b[90m━━━━━━━━━━━━━━━━━━━━━━━━━━━━━━━━━━━━━━━━\u001b[0m \u001b[32m82.8/82.8 kB\u001b[0m \u001b[31m19.0 MB/s\u001b[0m eta \u001b[36m0:00:00\u001b[0m\n",
            "\u001b[?25hRequirement already satisfied: pyarrow in /workspace/.pip-modules/lib/python3.8/site-packages (from streamlit==0.85.0->-r requirements.txt (line 7)) (10.0.0)\n",
            "Requirement already satisfied: pydeck>=0.1.dev5 in /workspace/.pip-modules/lib/python3.8/site-packages (from streamlit==0.85.0->-r requirements.txt (line 7)) (0.8.0b4)\n",
            "Requirement already satisfied: protobuf!=3.11,>=3.6.0 in /workspace/.pip-modules/lib/python3.8/site-packages (from streamlit==0.85.0->-r requirements.txt (line 7)) (3.19.6)\n",
            "Requirement already satisfied: altair>=3.2.0 in /workspace/.pip-modules/lib/python3.8/site-packages (from streamlit==0.85.0->-r requirements.txt (line 7)) (4.2.0)\n",
            "Requirement already satisfied: validators in /workspace/.pip-modules/lib/python3.8/site-packages (from streamlit==0.85.0->-r requirements.txt (line 7)) (0.20.0)\n",
            "Requirement already satisfied: requests in /home/gitpod/.pyenv/versions/3.8.12/lib/python3.8/site-packages (from streamlit==0.85.0->-r requirements.txt (line 7)) (2.28.1)\n",
            "Requirement already satisfied: imageio>=2.4.1 in /workspace/.pip-modules/lib/python3.8/site-packages (from scikit-image==0.19.3->-r requirements.txt (line 9)) (2.22.3)\n",
            "Requirement already satisfied: PyWavelets>=1.1.1 in /workspace/.pip-modules/lib/python3.8/site-packages (from scikit-image==0.19.3->-r requirements.txt (line 9)) (1.4.1)\n",
            "Requirement already satisfied: networkx>=2.2 in /workspace/.pip-modules/lib/python3.8/site-packages (from scikit-image==0.19.3->-r requirements.txt (line 9)) (2.8.8)\n",
            "Requirement already satisfied: tifffile>=2019.7.26 in /workspace/.pip-modules/lib/python3.8/site-packages (from scikit-image==0.19.3->-r requirements.txt (line 9)) (2022.10.10)\n",
            "Requirement already satisfied: joblib>=0.11 in /workspace/.pip-modules/lib/python3.8/site-packages (from scikit-learn==0.24.2->-r requirements.txt (line 10)) (1.2.0)\n",
            "Requirement already satisfied: threadpoolctl>=2.0.0 in /workspace/.pip-modules/lib/python3.8/site-packages (from scikit-learn==0.24.2->-r requirements.txt (line 10)) (3.1.0)\n",
            "Requirement already satisfied: absl-py~=0.10 in /workspace/.pip-modules/lib/python3.8/site-packages (from tensorflow-cpu==2.6.0->-r requirements.txt (line 11)) (0.15.0)\n",
            "Collecting typing-extensions~=3.7.4\n",
            "  Downloading typing_extensions-3.7.4.3-py3-none-any.whl (22 kB)\n",
            "Requirement already satisfied: wheel~=0.35 in /home/gitpod/.pyenv/versions/3.8.12/lib/python3.8/site-packages (from tensorflow-cpu==2.6.0->-r requirements.txt (line 11)) (0.37.1)\n",
            "Requirement already satisfied: gast==0.4.0 in /workspace/.pip-modules/lib/python3.8/site-packages (from tensorflow-cpu==2.6.0->-r requirements.txt (line 11)) (0.4.0)\n",
            "Requirement already satisfied: astunparse~=1.6.3 in /workspace/.pip-modules/lib/python3.8/site-packages (from tensorflow-cpu==2.6.0->-r requirements.txt (line 11)) (1.6.3)\n",
            "Requirement already satisfied: grpcio<2.0,>=1.37.0 in /workspace/.pip-modules/lib/python3.8/site-packages (from tensorflow-cpu==2.6.0->-r requirements.txt (line 11)) (1.50.0)\n",
            "Requirement already satisfied: clang~=5.0 in /workspace/.pip-modules/lib/python3.8/site-packages (from tensorflow-cpu==2.6.0->-r requirements.txt (line 11)) (5.0)\n",
            "Requirement already satisfied: google-pasta~=0.2 in /workspace/.pip-modules/lib/python3.8/site-packages (from tensorflow-cpu==2.6.0->-r requirements.txt (line 11)) (0.2.0)\n",
            "Requirement already satisfied: flatbuffers~=1.12.0 in /workspace/.pip-modules/lib/python3.8/site-packages (from tensorflow-cpu==2.6.0->-r requirements.txt (line 11)) (1.12)\n",
            "Requirement already satisfied: tensorflow-estimator~=2.6 in /workspace/.pip-modules/lib/python3.8/site-packages (from tensorflow-cpu==2.6.0->-r requirements.txt (line 11)) (2.10.0)\n",
            "Requirement already satisfied: opt-einsum~=3.3.0 in /workspace/.pip-modules/lib/python3.8/site-packages (from tensorflow-cpu==2.6.0->-r requirements.txt (line 11)) (3.3.0)\n",
            "Requirement already satisfied: termcolor~=1.1.0 in /workspace/.pip-modules/lib/python3.8/site-packages (from tensorflow-cpu==2.6.0->-r requirements.txt (line 11)) (1.1.0)\n",
            "Requirement already satisfied: tensorboard~=2.6 in /workspace/.pip-modules/lib/python3.8/site-packages (from tensorflow-cpu==2.6.0->-r requirements.txt (line 11)) (2.10.1)\n",
            "Requirement already satisfied: wrapt~=1.12.1 in /workspace/.pip-modules/lib/python3.8/site-packages (from tensorflow-cpu==2.6.0->-r requirements.txt (line 11)) (1.12.1)\n",
            "Requirement already satisfied: h5py~=3.1.0 in /workspace/.pip-modules/lib/python3.8/site-packages (from tensorflow-cpu==2.6.0->-r requirements.txt (line 11)) (3.1.0)\n",
            "Requirement already satisfied: ipython in /home/gitpod/.pyenv/versions/3.8.12/lib/python3.8/site-packages (from keras-tuner==1.1.3->-r requirements.txt (line 14)) (8.5.0)\n",
            "Requirement already satisfied: kt-legacy in /workspace/.pip-modules/lib/python3.8/site-packages (from keras-tuner==1.1.3->-r requirements.txt (line 14)) (1.0.4)\n",
            "Requirement already satisfied: jsonschema>=3.0 in /home/gitpod/.pyenv/versions/3.8.12/lib/python3.8/site-packages (from altair>=3.2.0->streamlit==0.85.0->-r requirements.txt (line 7)) (4.16.0)\n",
            "Requirement already satisfied: jinja2 in /home/gitpod/.pyenv/versions/3.8.12/lib/python3.8/site-packages (from altair>=3.2.0->streamlit==0.85.0->-r requirements.txt (line 7)) (3.1.2)\n",
            "Requirement already satisfied: entrypoints in /home/gitpod/.pyenv/versions/3.8.12/lib/python3.8/site-packages (from altair>=3.2.0->streamlit==0.85.0->-r requirements.txt (line 7)) (0.4)\n",
            "Requirement already satisfied: toolz in /workspace/.pip-modules/lib/python3.8/site-packages (from altair>=3.2.0->streamlit==0.85.0->-r requirements.txt (line 7)) (0.12.0)\n",
            "Requirement already satisfied: tensorboard-plugin-wit>=1.6.0 in /workspace/.pip-modules/lib/python3.8/site-packages (from tensorboard~=2.6->tensorflow-cpu==2.6.0->-r requirements.txt (line 11)) (1.8.1)\n",
            "Requirement already satisfied: werkzeug>=1.0.1 in /workspace/.pip-modules/lib/python3.8/site-packages (from tensorboard~=2.6->tensorflow-cpu==2.6.0->-r requirements.txt (line 11)) (2.2.2)\n",
            "Requirement already satisfied: markdown>=2.6.8 in /workspace/.pip-modules/lib/python3.8/site-packages (from tensorboard~=2.6->tensorflow-cpu==2.6.0->-r requirements.txt (line 11)) (3.4.1)\n",
            "Requirement already satisfied: google-auth<3,>=1.6.3 in /workspace/.pip-modules/lib/python3.8/site-packages (from tensorboard~=2.6->tensorflow-cpu==2.6.0->-r requirements.txt (line 11)) (2.14.0)\n",
            "Requirement already satisfied: google-auth-oauthlib<0.5,>=0.4.1 in /workspace/.pip-modules/lib/python3.8/site-packages (from tensorboard~=2.6->tensorflow-cpu==2.6.0->-r requirements.txt (line 11)) (0.4.6)\n",
            "Requirement already satisfied: tensorboard-data-server<0.7.0,>=0.6.0 in /workspace/.pip-modules/lib/python3.8/site-packages (from tensorboard~=2.6->tensorflow-cpu==2.6.0->-r requirements.txt (line 11)) (0.6.1)\n",
            "Requirement already satisfied: setuptools>=41.0.0 in /home/gitpod/.pyenv/versions/3.8.12/lib/python3.8/site-packages (from tensorboard~=2.6->tensorflow-cpu==2.6.0->-r requirements.txt (line 11)) (65.5.0)\n",
            "Requirement already satisfied: idna<4,>=2.5 in /home/gitpod/.pyenv/versions/3.8.12/lib/python3.8/site-packages (from requests->streamlit==0.85.0->-r requirements.txt (line 7)) (3.4)\n",
            "Requirement already satisfied: urllib3<1.27,>=1.21.1 in /home/gitpod/.pyenv/versions/3.8.12/lib/python3.8/site-packages (from requests->streamlit==0.85.0->-r requirements.txt (line 7)) (1.26.12)\n",
            "Requirement already satisfied: charset-normalizer<3,>=2 in /home/gitpod/.pyenv/versions/3.8.12/lib/python3.8/site-packages (from requests->streamlit==0.85.0->-r requirements.txt (line 7)) (2.1.1)\n",
            "Requirement already satisfied: gitdb<5,>=4.0.1 in /home/gitpod/.pyenv/versions/3.8.12/lib/python3.8/site-packages (from gitpython->streamlit==0.85.0->-r requirements.txt (line 7)) (4.0.9)\n",
            "Requirement already satisfied: decorator in /home/gitpod/.pyenv/versions/3.8.12/lib/python3.8/site-packages (from ipython->keras-tuner==1.1.3->-r requirements.txt (line 14)) (5.1.1)\n",
            "Requirement already satisfied: pickleshare in /home/gitpod/.pyenv/versions/3.8.12/lib/python3.8/site-packages (from ipython->keras-tuner==1.1.3->-r requirements.txt (line 14)) (0.7.5)\n",
            "Requirement already satisfied: jedi>=0.16 in /home/gitpod/.pyenv/versions/3.8.12/lib/python3.8/site-packages (from ipython->keras-tuner==1.1.3->-r requirements.txt (line 14)) (0.18.1)\n",
            "Requirement already satisfied: stack-data in /home/gitpod/.pyenv/versions/3.8.12/lib/python3.8/site-packages (from ipython->keras-tuner==1.1.3->-r requirements.txt (line 14)) (0.5.1)\n",
            "Requirement already satisfied: traitlets>=5 in /home/gitpod/.pyenv/versions/3.8.12/lib/python3.8/site-packages (from ipython->keras-tuner==1.1.3->-r requirements.txt (line 14)) (5.5.0)\n",
            "Requirement already satisfied: matplotlib-inline in /home/gitpod/.pyenv/versions/3.8.12/lib/python3.8/site-packages (from ipython->keras-tuner==1.1.3->-r requirements.txt (line 14)) (0.1.6)\n",
            "Requirement already satisfied: pygments>=2.4.0 in /home/gitpod/.pyenv/versions/3.8.12/lib/python3.8/site-packages (from ipython->keras-tuner==1.1.3->-r requirements.txt (line 14)) (2.13.0)\n",
            "Requirement already satisfied: prompt-toolkit<3.1.0,>3.0.1 in /home/gitpod/.pyenv/versions/3.8.12/lib/python3.8/site-packages (from ipython->keras-tuner==1.1.3->-r requirements.txt (line 14)) (3.0.31)\n",
            "Requirement already satisfied: backcall in /home/gitpod/.pyenv/versions/3.8.12/lib/python3.8/site-packages (from ipython->keras-tuner==1.1.3->-r requirements.txt (line 14)) (0.2.0)\n",
            "Requirement already satisfied: pexpect>4.3 in /home/gitpod/.pyenv/versions/3.8.12/lib/python3.8/site-packages (from ipython->keras-tuner==1.1.3->-r requirements.txt (line 14)) (4.8.0)\n",
            "Requirement already satisfied: pytz-deprecation-shim in /workspace/.pip-modules/lib/python3.8/site-packages (from tzlocal->streamlit==0.85.0->-r requirements.txt (line 7)) (0.1.0.post0)\n",
            "Requirement already satisfied: backports.zoneinfo in /workspace/.pip-modules/lib/python3.8/site-packages (from tzlocal->streamlit==0.85.0->-r requirements.txt (line 7)) (0.2.1)\n",
            "Requirement already satisfied: smmap<6,>=3.0.1 in /home/gitpod/.pyenv/versions/3.8.12/lib/python3.8/site-packages (from gitdb<5,>=4.0.1->gitpython->streamlit==0.85.0->-r requirements.txt (line 7)) (5.0.0)\n",
            "Requirement already satisfied: pyasn1-modules>=0.2.1 in /workspace/.pip-modules/lib/python3.8/site-packages (from google-auth<3,>=1.6.3->tensorboard~=2.6->tensorflow-cpu==2.6.0->-r requirements.txt (line 11)) (0.2.8)\n",
            "Requirement already satisfied: rsa<5,>=3.1.4 in /workspace/.pip-modules/lib/python3.8/site-packages (from google-auth<3,>=1.6.3->tensorboard~=2.6->tensorflow-cpu==2.6.0->-r requirements.txt (line 11)) (4.9)\n",
            "Requirement already satisfied: requests-oauthlib>=0.7.0 in /workspace/.pip-modules/lib/python3.8/site-packages (from google-auth-oauthlib<0.5,>=0.4.1->tensorboard~=2.6->tensorflow-cpu==2.6.0->-r requirements.txt (line 11)) (1.3.1)\n",
            "Requirement already satisfied: parso<0.9.0,>=0.8.0 in /home/gitpod/.pyenv/versions/3.8.12/lib/python3.8/site-packages (from jedi>=0.16->ipython->keras-tuner==1.1.3->-r requirements.txt (line 14)) (0.8.3)\n",
            "Requirement already satisfied: MarkupSafe>=2.0 in /home/gitpod/.pyenv/versions/3.8.12/lib/python3.8/site-packages (from jinja2->altair>=3.2.0->streamlit==0.85.0->-r requirements.txt (line 7)) (2.1.1)\n",
            "Requirement already satisfied: importlib-resources>=1.4.0 in /home/gitpod/.pyenv/versions/3.8.12/lib/python3.8/site-packages (from jsonschema>=3.0->altair>=3.2.0->streamlit==0.85.0->-r requirements.txt (line 7)) (5.10.0)\n",
            "Requirement already satisfied: pyrsistent!=0.17.0,!=0.17.1,!=0.17.2,>=0.14.0 in /home/gitpod/.pyenv/versions/3.8.12/lib/python3.8/site-packages (from jsonschema>=3.0->altair>=3.2.0->streamlit==0.85.0->-r requirements.txt (line 7)) (0.18.1)\n",
            "Requirement already satisfied: pkgutil-resolve-name>=1.3.10 in /home/gitpod/.pyenv/versions/3.8.12/lib/python3.8/site-packages (from jsonschema>=3.0->altair>=3.2.0->streamlit==0.85.0->-r requirements.txt (line 7)) (1.3.10)\n",
            "Requirement already satisfied: importlib-metadata>=4.4 in /home/gitpod/.pyenv/versions/3.8.12/lib/python3.8/site-packages (from markdown>=2.6.8->tensorboard~=2.6->tensorflow-cpu==2.6.0->-r requirements.txt (line 11)) (5.0.0)\n",
            "Requirement already satisfied: ptyprocess>=0.5 in /home/gitpod/.pyenv/versions/3.8.12/lib/python3.8/site-packages (from pexpect>4.3->ipython->keras-tuner==1.1.3->-r requirements.txt (line 14)) (0.7.0)\n",
            "Requirement already satisfied: wcwidth in /home/gitpod/.pyenv/versions/3.8.12/lib/python3.8/site-packages (from prompt-toolkit<3.1.0,>3.0.1->ipython->keras-tuner==1.1.3->-r requirements.txt (line 14)) (0.2.5)\n",
            "Requirement already satisfied: tzdata in /workspace/.pip-modules/lib/python3.8/site-packages (from pytz-deprecation-shim->tzlocal->streamlit==0.85.0->-r requirements.txt (line 7)) (2022.6)\n",
            "Requirement already satisfied: asttokens in /home/gitpod/.pyenv/versions/3.8.12/lib/python3.8/site-packages (from stack-data->ipython->keras-tuner==1.1.3->-r requirements.txt (line 14)) (2.0.8)\n",
            "Requirement already satisfied: pure-eval in /home/gitpod/.pyenv/versions/3.8.12/lib/python3.8/site-packages (from stack-data->ipython->keras-tuner==1.1.3->-r requirements.txt (line 14)) (0.2.2)\n",
            "Requirement already satisfied: executing in /home/gitpod/.pyenv/versions/3.8.12/lib/python3.8/site-packages (from stack-data->ipython->keras-tuner==1.1.3->-r requirements.txt (line 14)) (1.1.1)\n",
            "Requirement already satisfied: zipp>=0.5 in /home/gitpod/.pyenv/versions/3.8.12/lib/python3.8/site-packages (from importlib-metadata>=4.4->markdown>=2.6.8->tensorboard~=2.6->tensorflow-cpu==2.6.0->-r requirements.txt (line 11)) (3.9.0)\n",
            "Requirement already satisfied: pyasn1<0.5.0,>=0.4.6 in /workspace/.pip-modules/lib/python3.8/site-packages (from pyasn1-modules>=0.2.1->google-auth<3,>=1.6.3->tensorboard~=2.6->tensorflow-cpu==2.6.0->-r requirements.txt (line 11)) (0.4.8)\n",
            "Requirement already satisfied: oauthlib>=3.0.0 in /workspace/.pip-modules/lib/python3.8/site-packages (from requests-oauthlib>=0.7.0->google-auth-oauthlib<0.5,>=0.4.1->tensorboard~=2.6->tensorflow-cpu==2.6.0->-r requirements.txt (line 11)) (3.2.2)\n",
            "Installing collected packages: typing-extensions, numpy, click\n",
            "  Attempting uninstall: typing-extensions\n",
            "    Found existing installation: typing_extensions 4.4.0\n",
            "    Uninstalling typing_extensions-4.4.0:\n",
            "      Successfully uninstalled typing_extensions-4.4.0\n",
            "  Attempting uninstall: numpy\n",
            "    Found existing installation: numpy 1.21.6\n",
            "    Uninstalling numpy-1.21.6:\n",
            "      Successfully uninstalled numpy-1.21.6\n",
            "  Attempting uninstall: click\n",
            "    Found existing installation: click 8.1.3\n",
            "    Uninstalling click-8.1.3:\n",
            "      Successfully uninstalled click-8.1.3\n",
            "\u001b[31mERROR: pip's dependency resolver does not currently take into account all the packages that are installed. This behaviour is the source of the following dependency conflicts.\n",
            "starlette 0.19.1 requires typing-extensions>=3.10.0; python_version < \"3.10\", but you have typing-extensions 3.7.4.3 which is incompatible.\n",
            "rembg 2.0.25 requires click==8.1.3, but you have click 7.1.2 which is incompatible.\n",
            "rembg 2.0.25 requires numpy==1.21.6, but you have numpy 1.19.2 which is incompatible.\n",
            "pydantic 1.10.2 requires typing-extensions>=4.1.0, but you have typing-extensions 3.7.4.3 which is incompatible.\n",
            "onnxruntime 1.12.1 requires numpy>=1.21.0, but you have numpy 1.19.2 which is incompatible.\n",
            "rich 12.6.0 requires typing-extensions<5.0,>=4.0.0; python_version < \"3.9\", but you have typing-extensions 3.7.4.3 which is incompatible.\n",
            "pylint 2.15.4 requires typing-extensions>=3.10.0; python_version < \"3.10\", but you have typing-extensions 3.7.4.3 which is incompatible.\n",
            "mypy 0.982 requires typing-extensions>=3.10, but you have typing-extensions 3.7.4.3 which is incompatible.\n",
            "astroid 2.12.12 requires typing-extensions>=3.10; python_version < \"3.10\", but you have typing-extensions 3.7.4.3 which is incompatible.\u001b[0m\u001b[31m\n",
            "\u001b[0mSuccessfully installed click-7.1.2 numpy-1.19.2 typing-extensions-3.7.4.3\n",
            "\n",
            "\u001b[1m[\u001b[0m\u001b[34;49mnotice\u001b[0m\u001b[1;39;49m]\u001b[0m\u001b[39;49m A new release of pip available: \u001b[0m\u001b[31;49m22.3\u001b[0m\u001b[39;49m -> \u001b[0m\u001b[32;49m22.3.1\u001b[0m\n",
            "\u001b[1m[\u001b[0m\u001b[34;49mnotice\u001b[0m\u001b[1;39;49m]\u001b[0m\u001b[39;49m To update, run: \u001b[0m\u001b[32;49mpip install --upgrade pip\u001b[0m\n"
          ]
        }
      ],
      "source": [
        "!pip install -r requirements.txt"
      ]
    },
    {
      "cell_type": "markdown",
      "metadata": {},
      "source": [
        "Remove files of unprocessed images and rename processed image files"
      ]
    },
    {
      "cell_type": "code",
      "execution_count": 9,
      "metadata": {},
      "outputs": [],
      "source": [
        "shutil.rmtree(f'{DataPath}/bad_quality/')\n",
        "shutil.rmtree(f'{DataPath}/good_quality/')"
      ]
    },
    {
      "cell_type": "code",
      "execution_count": null,
      "metadata": {},
      "outputs": [],
      "source": [
        "os.rename(f'{DataPath}/bad_quality_processed/', f'{DataPath}/bad_quality/')\n",
        "os.rename(f'{DataPath}/good_quality_processed/', f'{DataPath}/good_quality/')"
      ]
    },
    {
      "cell_type": "markdown",
      "metadata": {},
      "source": [
        "## Perform train-validation-test split on data"
      ]
    },
    {
      "cell_type": "markdown",
      "metadata": {},
      "source": [
        "Define train-test-validation split function"
      ]
    },
    {
      "cell_type": "code",
      "execution_count": null,
      "metadata": {},
      "outputs": [],
      "source": [
        "import random\n",
        "\n",
        "def split_train_validation_test_images(my_data_dir: str, train_set_ratio: float, validation_set_ratio: float, test_set_ratio: float):\n",
        "  \n",
        "  if train_set_ratio + validation_set_ratio + test_set_ratio != 1.0:\n",
        "    print(\"train_set_ratio + validation_set_ratio + test_set_ratio should sum 1.0\")\n",
        "    return\n",
        "\n",
        "  labels = os.listdir(my_data_dir) \n",
        "  if 'test' in labels:\n",
        "    pass\n",
        "  else: \n",
        "    for folder in ['train','validation','test']:\n",
        "      for label in labels:\n",
        "        os.makedirs(name=my_data_dir+ '/' + folder + '/' + label)\n",
        "\n",
        "    for label in labels:\n",
        "\n",
        "      files = os.listdir(my_data_dir + '/' + label)\n",
        "      random.shuffle(files)\n",
        "\n",
        "      train_set_files_qty = int(len(files) * train_set_ratio)\n",
        "      validation_set_files_qty = int(len(files) * validation_set_ratio)\n",
        "\n",
        "      count = 1\n",
        "      for file_name in files:\n",
        "        if count <= train_set_files_qty:\n",
        "          shutil.move(my_data_dir + '/' + label + '/' + file_name,\n",
        "                      my_data_dir + '/train/' + label + '/' + file_name)\n",
        "          \n",
        "\n",
        "        elif count <= (train_set_files_qty + validation_set_files_qty ):\n",
        "          shutil.move(my_data_dir + '/' + label + '/' + file_name,\n",
        "                      my_data_dir + '/validation/' + label + '/' + file_name)\n",
        "\n",
        "        else:\n",
        "          shutil.move(my_data_dir + '/' + label + '/' + file_name,\n",
        "                  my_data_dir + '/test/' +label + '/'+ file_name)\n",
        "          \n",
        "        count += 1\n",
        "\n",
        "      os.rmdir(my_data_dir + '/' + label)\n",
        "    "
      ]
    },
    {
      "cell_type": "markdown",
      "metadata": {},
      "source": [
        "Apply function to combined lemon dataset"
      ]
    },
    {
      "cell_type": "code",
      "execution_count": null,
      "metadata": {},
      "outputs": [],
      "source": [
        "split_train_validation_test_images(my_data_dir = DataPath,\n",
        "                            train_set_ratio = 0.7,\n",
        "                            validation_set_ratio = 0.1,\n",
        "                            test_set_ratio = 0.2)"
      ]
    }
  ],
  "metadata": {
    "accelerator": "GPU",
    "colab": {
      "name": "Data Practitioner Jupyter Notebook.ipynb",
      "provenance": [],
      "toc_visible": true
    },
    "interpreter": {
      "hash": "8b8334dab9339717f727a1deaf837b322d7a41c20d15cc86be99a8e69ceec8ce"
    },
    "kernelspec": {
      "display_name": "Python 3.8.12 64-bit ('3.8.12': pyenv)",
      "name": "python3"
    },
    "language_info": {
      "codemirror_mode": {
        "name": "ipython",
        "version": 3
      },
      "file_extension": ".py",
      "mimetype": "text/x-python",
      "name": "python",
      "nbconvert_exporter": "python",
      "pygments_lexer": "ipython3",
      "version": "3.8.12"
    },
    "orig_nbformat": 2
  },
  "nbformat": 4,
  "nbformat_minor": 2
}
