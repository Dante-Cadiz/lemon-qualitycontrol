{
  "cells": [
    {
      "cell_type": "markdown",
      "metadata": {
        "id": "0aStgWSO0E0E"
      },
      "source": [
        "# Initial Data Preparation"
      ]
    },
    {
      "cell_type": "markdown",
      "metadata": {
        "id": "1eLEkw5O0ECa"
      },
      "source": [
        "## Objectives\n",
        "\n",
        "* Fetch data from Kaggle and save as raw data in organised folders\n",
        "* Initial data preparation and data cleaning - removing non image files\n",
        "* Read COCO annotations of second dataset to split into good and bad quality lemons\n",
        "* Combine two datasets into a single one for analysis\n",
        "* Split data into Train, Validation, Test sets\n",
        "\n",
        "## Inputs\n",
        "\n",
        "* Kaggle JSON file - authentication token\n",
        "\n",
        "## Outputs\n",
        "\n",
        "* Generate Lemon Quality Dataset, split into Train, Validation, and Test sets\n",
        "\n"
      ]
    },
    {
      "cell_type": "markdown",
      "metadata": {
        "id": "9uWZXH9LwoQg"
      },
      "source": [
        "---"
      ]
    },
    {
      "cell_type": "markdown",
      "metadata": {
        "id": "cqP-UeN-z3i2"
      },
      "source": [
        "# Change working directory"
      ]
    },
    {
      "cell_type": "markdown",
      "metadata": {
        "id": "aOGIGS-uz3i2"
      },
      "source": [
        "Change the working directory from its current folder to its parent folder\n",
        "* We access the current directory with os.getcwd()"
      ]
    },
    {
      "cell_type": "code",
      "execution_count": 1,
      "metadata": {
        "id": "wZfF_j-Bz3i4",
        "outputId": "66943449-1436-4c3d-85c7-b85f9f78349b"
      },
      "outputs": [
        {
          "data": {
            "text/plain": [
              "'/workspace/lemon-qualitycontrol/jupyter_notebooks'"
            ]
          },
          "execution_count": 1,
          "metadata": {},
          "output_type": "execute_result"
        }
      ],
      "source": [
        "import os\n",
        "current_dir = os.getcwd()\n",
        "current_dir"
      ]
    },
    {
      "cell_type": "markdown",
      "metadata": {
        "id": "9MWW8E7lz3i7"
      },
      "source": [
        "We want to make the parent of the current directory the new current directory\n",
        "* os.path.dirname() gets the parent directory\n",
        "* os.chdir() defines the new current directory"
      ]
    },
    {
      "cell_type": "code",
      "execution_count": 2,
      "metadata": {
        "id": "TwHsQRWjz3i9",
        "outputId": "86849db3-cd2f-4cc5-ebb8-2d0caafa1a2c"
      },
      "outputs": [
        {
          "name": "stdout",
          "output_type": "stream",
          "text": [
            "You set a new current directory\n"
          ]
        }
      ],
      "source": [
        "os.chdir(os.path.dirname(current_dir))\n",
        "print(\"You set a new current directory\")"
      ]
    },
    {
      "cell_type": "markdown",
      "metadata": {
        "id": "M_xPk_Ijz3i-"
      },
      "source": [
        "Confirm the new current directory"
      ]
    },
    {
      "cell_type": "code",
      "execution_count": 3,
      "metadata": {
        "id": "vz3S-_kjz3jA",
        "outputId": "00b79ae4-75d0-4a96-d193-ac9ef9847ea2"
      },
      "outputs": [
        {
          "data": {
            "text/plain": [
              "'/workspace/lemon-qualitycontrol'"
            ]
          },
          "execution_count": 3,
          "metadata": {},
          "output_type": "execute_result"
        }
      ],
      "source": [
        "current_dir = os.getcwd()\n",
        "current_dir"
      ]
    },
    {
      "cell_type": "markdown",
      "metadata": {},
      "source": [
        "## Obtain and save data from Kaggle API"
      ]
    },
    {
      "cell_type": "markdown",
      "metadata": {},
      "source": [
        "Install Kaggle"
      ]
    },
    {
      "cell_type": "code",
      "execution_count": null,
      "metadata": {},
      "outputs": [],
      "source": [
        "!pip install kaggle"
      ]
    },
    {
      "cell_type": "markdown",
      "metadata": {},
      "source": [
        "Set Kaggle config directory environment variable to that of current working directory and set authentication to 600 to allow Kaggle package to locate JSON file"
      ]
    },
    {
      "cell_type": "code",
      "execution_count": 4,
      "metadata": {},
      "outputs": [],
      "source": [
        "os.environ['KAGGLE_CONFIG_DIR'] = os.getcwd()\n",
        "! chmod 600 kaggle.json"
      ]
    },
    {
      "cell_type": "markdown",
      "metadata": {},
      "source": [
        "Set KaggleDataset variable as the [URL](https://www.kaggle.com/datasets/yusufemir/lemon-quality-dataset) for the dataset on Kaggle and create destination folder variable for it to be downloaded into.\n",
        "Run Kaggle command to download dataset into destination folder. Repeat process for the second Kaggle dataset at the following [URL](https://www.kaggle.com/datasets/maciejadamiak/lemons-quality-control-dataset)"
      ]
    },
    {
      "cell_type": "code",
      "execution_count": 5,
      "metadata": {},
      "outputs": [
        {
          "name": "stdout",
          "output_type": "stream",
          "text": [
            "Downloading lemon-quality-dataset.zip to inputs/lemon-quality-dataset\n",
            "  0%|                                                | 0.00/233M [00:00<?, ?B/s]\r  2%|▊                                      | 5.00M/233M [00:00<00:19, 12.2MB/s]\r  4%|█▌                                     | 9.00M/233M [00:00<00:15, 14.9MB/s]\r 14%|█████▌                                 | 33.0M/233M [00:00<00:03, 54.5MB/s]\r 18%|██████▉                                | 41.0M/233M [00:01<00:03, 53.7MB/s]\r 21%|████████▏                              | 49.0M/233M [00:01<00:05, 36.9MB/s]\r 35%|█████████████▌                         | 81.0M/233M [00:01<00:03, 50.1MB/s]\r 45%|██████████████████                      | 105M/233M [00:02<00:02, 66.7MB/s]\r 49%|███████████████████▍                    | 113M/233M [00:02<00:01, 68.2MB/s]\r 52%|████████████████████▊                   | 121M/233M [00:02<00:01, 67.7MB/s]\r 59%|███████████████████████▌                | 137M/233M [00:02<00:01, 83.3MB/s]\r 63%|█████████████████████████▎              | 147M/233M [00:02<00:01, 81.0MB/s]\r 69%|███████████████████████████▋            | 161M/233M [00:02<00:01, 62.1MB/s]\r 76%|██████████████████████████████▍         | 177M/233M [00:03<00:00, 66.0MB/s]\r 80%|███████████████████████████████▊        | 185M/233M [00:03<00:00, 51.2MB/s]\r 90%|███████████████████████████████████▉    | 209M/233M [00:03<00:00, 77.1MB/s]\r 94%|█████████████████████████████████████▋  | 219M/233M [00:03<00:00, 60.9MB/s]\r\n",
            "\r100%|████████████████████████████████████████| 233M/233M [00:04<00:00, 60.5MB/s]\r\n",
            "Downloading lemons-quality-control-dataset.zip to inputs/lemon-quality-dataset-2\r\n",
            "\r  0%|                                               | 0.00/83.0M [00:00<?, ?B/s]\r  6%|██▎                                   | 5.00M/83.0M [00:00<00:03, 22.4MB/s]\r 11%|████                                  | 9.00M/83.0M [00:00<00:07, 10.9MB/s]\r 49%|██████████████████▊                   | 41.0M/83.0M [00:01<00:01, 27.5MB/s]\r 88%|█████████████████████████████████▍    | 73.0M/83.0M [00:02<00:00, 42.5MB/s]\r\n",
            "\r100%|██████████████████████████████████████| 83.0M/83.0M [00:02<00:00, 40.0MB/s]\r\n"
          ]
        }
      ],
      "source": [
        "KaggleDataset = \"yusufemir/lemon-quality-dataset\"\n",
        "DestinationFolder = \"inputs/lemon-quality-dataset\"\n",
        "! kaggle datasets download -d {KaggleDataset} -p {DestinationFolder}\n",
        "\n",
        "KaggleDataset2 = \"maciejadamiak/lemons-quality-control-dataset\"\n",
        "DestinationFolder2 = \"inputs/lemon-quality-dataset-2\"\n",
        "! kaggle datasets download -d {KaggleDataset2} -p {DestinationFolder2}\n"
      ]
    },
    {
      "cell_type": "markdown",
      "metadata": {},
      "source": [
        "Unzip downloaded files and subsequently delete the originally downloaded zipped files"
      ]
    },
    {
      "cell_type": "code",
      "execution_count": 6,
      "metadata": {},
      "outputs": [],
      "source": [
        "import zipfile\n",
        "with zipfile.ZipFile(DestinationFolder + '/lemon-quality-dataset.zip', 'r') as zip_ref:\n",
        "    zip_ref.extractall(DestinationFolder)\n",
        "\n",
        "os.remove(DestinationFolder + '/lemon-quality-dataset.zip')\n",
        "\n",
        "with zipfile.ZipFile(DestinationFolder2 + '/lemons-quality-control-dataset.zip', 'r') as zip_ref:\n",
        "    zip_ref.extractall(DestinationFolder2)\n",
        "\n",
        "os.remove(DestinationFolder2 + '/lemons-quality-control-dataset.zip')"
      ]
    },
    {
      "cell_type": "markdown",
      "metadata": {
        "id": "ZY3l0-AxO93d"
      },
      "source": [
        "---"
      ]
    },
    {
      "cell_type": "markdown",
      "metadata": {
        "id": "uFQo3ycuO-v6"
      },
      "source": [
        "# Data Preparation"
      ]
    },
    {
      "cell_type": "markdown",
      "metadata": {},
      "source": [
        "Set input dataset paths for first and second lemon dataset"
      ]
    },
    {
      "cell_type": "code",
      "execution_count": 7,
      "metadata": {},
      "outputs": [],
      "source": [
        "DataPath = \"inputs/lemon-quality-dataset/lemon_dataset\"\n",
        "DataPath2 = 'inputs/lemon-quality-dataset-2/data/lemon-dataset/lemon-dataset'"
      ]
    },
    {
      "cell_type": "markdown",
      "metadata": {},
      "source": [
        "Import COCO API and use it to read dataset"
      ]
    },
    {
      "cell_type": "code",
      "execution_count": 8,
      "metadata": {},
      "outputs": [
        {
          "name": "stdout",
          "output_type": "stream",
          "text": [
            "loading annotations into memory...\n",
            "Done (t=0.89s)\n",
            "creating index...\n",
            "index created!\n",
            "{1: {'id': 1, 'supercategory': '', 'name': 'image_quality'}, 2: {'id': 2, 'supercategory': '', 'name': 'illness'}, 3: {'id': 3, 'supercategory': '', 'name': 'gangrene'}, 4: {'id': 4, 'supercategory': '', 'name': 'mould'}, 5: {'id': 5, 'supercategory': '', 'name': 'blemish'}, 6: {'id': 6, 'supercategory': '', 'name': 'dark_style_remains'}, 7: {'id': 7, 'supercategory': '', 'name': 'artifact'}, 8: {'id': 8, 'supercategory': '', 'name': 'condition'}, 9: {'id': 9, 'supercategory': '', 'name': 'pedicel'}}\n"
          ]
        }
      ],
      "source": [
        "from pycocotools.coco import COCO\n",
        "coco = COCO(f'{DataPath2}/annotations/instances_default.json')\n",
        "cats = coco.cats\n",
        "print(cats)\n"
      ]
    },
    {
      "cell_type": "markdown",
      "metadata": {},
      "source": [
        "Separate lemons into lists of healthy and unhealthy lemons, decided by passing tags for filtering dataset in. Here, illness, gangrene, and mould are chosen as markers for unhealthy lemons, and the lemons on which said traits were annotated are separated from those on which they were not."
      ]
    },
    {
      "cell_type": "code",
      "execution_count": 9,
      "metadata": {},
      "outputs": [],
      "source": [
        "def sort_lemons(coco, tags: list) -> tuple:\n",
        "    all_lemon_ids = coco.getImgIds()\n",
        "    temp_list = []\n",
        "    bad_ids = []\n",
        "    good_ids = []\n",
        "    for tag in tags:\n",
        "        arr = coco.getImgIds(catIds=[tag])\n",
        "        for i in arr:\n",
        "            temp_list.append(i)\n",
        "    \n",
        "    [bad_ids.append(i) for i in temp_list if i not in bad_ids]\n",
        "    [good_ids.append(i) for i in all_lemon_ids if i not in bad_ids]\n",
        "    bad_lemons = coco.loadImgs(ids=bad_ids)\n",
        "    good_lemons = coco.loadImgs(ids=good_ids)\n",
        "    return bad_lemons, good_lemons\n"
      ]
    },
    {
      "cell_type": "code",
      "execution_count": 10,
      "metadata": {},
      "outputs": [
        {
          "name": "stdout",
          "output_type": "stream",
          "text": [
            "2\n"
          ]
        }
      ],
      "source": [
        "my_sort = sort_lemons(coco=coco, tags=[2,3,4])\n",
        "print(len(my_sort))"
      ]
    },
    {
      "cell_type": "markdown",
      "metadata": {},
      "source": [
        "Move sorted image files into folders with first lemon dataset"
      ]
    },
    {
      "cell_type": "code",
      "execution_count": 11,
      "metadata": {},
      "outputs": [],
      "source": [
        "import shutil\n",
        "def move_sorted_images(sort: tuple):\n",
        "    for i in sort[0]: #improve this section of code to iterate through both labels at once\n",
        "        file_ext = i['file_name']\n",
        "        image_file = f'{DataPath2}/{file_ext}'                             \n",
        "        shutil.move(image_file, f'{DataPath}/bad_quality')\n",
        "    for i in sort[1]:\n",
        "        file_ext = i['file_name']\n",
        "        image_file = f'{DataPath2}/{file_ext}'\n",
        "        shutil.move(image_file, f'{DataPath}/good_quality')\n",
        "\n",
        "    "
      ]
    },
    {
      "cell_type": "code",
      "execution_count": 12,
      "metadata": {},
      "outputs": [],
      "source": [
        "my_move = move_sorted_images(sort=my_sort)\n"
      ]
    },
    {
      "cell_type": "markdown",
      "metadata": {},
      "source": [
        "## Data Cleaning"
      ]
    },
    {
      "cell_type": "markdown",
      "metadata": {},
      "source": [
        "Remove second lemon quality dataset folder, along with empty background folder and git hooks folder in first dataset"
      ]
    },
    {
      "cell_type": "code",
      "execution_count": 13,
      "metadata": {},
      "outputs": [],
      "source": [
        "shutil.rmtree('inputs/lemon-quality-dataset-2/')\n",
        "shutil.rmtree('inputs/lemon-quality-dataset/lemon_dataset/empty_background/')\n",
        "shutil.rmtree('inputs/lemon-quality-dataset/lemon_dataset/.git/')"
      ]
    },
    {
      "cell_type": "markdown",
      "metadata": {},
      "source": [
        "Check for and remove non-image files"
      ]
    },
    {
      "cell_type": "code",
      "execution_count": 14,
      "metadata": {},
      "outputs": [],
      "source": [
        "def remove_non_image_file(my_data_dir: str):\n",
        "    image_extension = ('.png', '.jpg', '.jpeg')\n",
        "    folders = os.listdir(my_data_dir)\n",
        "    for folder in folders:\n",
        "        files = os.listdir(my_data_dir + '/' + folder)\n",
        "        i = []\n",
        "        j = []\n",
        "        for given_file in files:\n",
        "            if not given_file.lower().endswith(image_extension):\n",
        "                file_location = my_data_dir + '/' + folder + '/' + given_file\n",
        "                os.remove(file_location) \n",
        "                i.append(1)\n",
        "            else:\n",
        "                j.append(1)\n",
        "                pass\n",
        "        print(f\"Folder: {folder} - has image file\",len(j))\n",
        "        print(f\"Folder: {folder} - has non-image file\",len(i))\n",
        "    \n",
        "    "
      ]
    },
    {
      "cell_type": "code",
      "execution_count": 15,
      "metadata": {},
      "outputs": [
        {
          "name": "stdout",
          "output_type": "stream",
          "text": [
            "Folder: bad_quality - has image file 2901\n",
            "Folder: bad_quality - has non-image file 0\n",
            "Folder: good_quality - has image file 1865\n",
            "Folder: good_quality - has non-image file 0\n"
          ]
        }
      ],
      "source": [
        "remove_non_image_file(my_data_dir=DataPath)"
      ]
    },
    {
      "cell_type": "markdown",
      "metadata": {},
      "source": [
        "---"
      ]
    },
    {
      "cell_type": "markdown",
      "metadata": {},
      "source": [
        "## Perform train-validation-test split on data"
      ]
    },
    {
      "cell_type": "markdown",
      "metadata": {},
      "source": [
        "Define train-test-validation split function"
      ]
    },
    {
      "cell_type": "code",
      "execution_count": null,
      "metadata": {},
      "outputs": [],
      "source": [
        "import random\n",
        "\n",
        "def split_train_validation_test_images(my_data_dir: str, train_set_ratio: float, validation_set_ratio: float, test_set_ratio: float):\n",
        "  \n",
        "  if train_set_ratio + validation_set_ratio + test_set_ratio != 1.0:\n",
        "    print(\"train_set_ratio + validation_set_ratio + test_set_ratio should sum 1.0\")\n",
        "    return\n",
        "\n",
        "  labels = os.listdir(my_data_dir) \n",
        "  if 'test' in labels:\n",
        "    pass\n",
        "  else: \n",
        "    for folder in ['train','validation','test']:\n",
        "      for label in labels:\n",
        "        os.makedirs(name=my_data_dir+ '/' + folder + '/' + label)\n",
        "\n",
        "    for label in labels:\n",
        "\n",
        "      files = os.listdir(my_data_dir + '/' + label)\n",
        "      random.shuffle(files)\n",
        "\n",
        "      train_set_files_qty = int(len(files) * train_set_ratio)\n",
        "      validation_set_files_qty = int(len(files) * validation_set_ratio)\n",
        "\n",
        "      count = 1\n",
        "      for file_name in files:\n",
        "        if count <= train_set_files_qty:\n",
        "          shutil.move(my_data_dir + '/' + label + '/' + file_name,\n",
        "                      my_data_dir + '/train/' + label + '/' + file_name)\n",
        "          \n",
        "\n",
        "        elif count <= (train_set_files_qty + validation_set_files_qty ):\n",
        "          shutil.move(my_data_dir + '/' + label + '/' + file_name,\n",
        "                      my_data_dir + '/validation/' + label + '/' + file_name)\n",
        "\n",
        "        else:\n",
        "          shutil.move(my_data_dir + '/' + label + '/' + file_name,\n",
        "                  my_data_dir + '/test/' +label + '/'+ file_name)\n",
        "          \n",
        "        count += 1\n",
        "\n",
        "      os.rmdir(my_data_dir + '/' + label)\n",
        "    "
      ]
    },
    {
      "cell_type": "markdown",
      "metadata": {},
      "source": [
        "Apply function to combined lemon dataset"
      ]
    },
    {
      "cell_type": "code",
      "execution_count": null,
      "metadata": {},
      "outputs": [],
      "source": [
        "split_train_validation_test_images(my_data_dir = DataPath,\n",
        "                            train_set_ratio = 0.7,\n",
        "                            validation_set_ratio = 0.1,\n",
        "                            test_set_ratio = 0.2)"
      ]
    }
  ],
  "metadata": {
    "accelerator": "GPU",
    "colab": {
      "name": "Data Practitioner Jupyter Notebook.ipynb",
      "provenance": [],
      "toc_visible": true
    },
    "interpreter": {
      "hash": "8b8334dab9339717f727a1deaf837b322d7a41c20d15cc86be99a8e69ceec8ce"
    },
    "kernelspec": {
      "display_name": "Python 3.8.12 64-bit ('3.8.12': pyenv)",
      "name": "python3"
    },
    "language_info": {
      "codemirror_mode": {
        "name": "ipython",
        "version": 3
      },
      "file_extension": ".py",
      "mimetype": "text/x-python",
      "name": "python",
      "nbconvert_exporter": "python",
      "pygments_lexer": "ipython3",
      "version": "3.8.12"
    },
    "orig_nbformat": 2
  },
  "nbformat": 4,
  "nbformat_minor": 2
}
